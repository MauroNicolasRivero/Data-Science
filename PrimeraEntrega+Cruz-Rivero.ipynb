{
 "cells": [
  {
   "cell_type": "markdown",
   "metadata": {},
   "source": [
    "## HospeDate S.A. \n",
    "\n",
    "**Primera Entrega del Proyecto de Data Science - CoderHouse 2022**\n",
    "\n",
    "**Comisión:** 32695\n",
    "\n",
    "**Profesor:** Ignacio Russo Locati\n",
    "\n",
    "**Tutor:** Oswaldo Villa\n",
    "\n",
    "**Integrantes:** Nestor Kevin Cruz - Mauro Nicolás Rivero"
   ]
  },
  {
   "cell_type": "markdown",
   "metadata": {},
   "source": [
    "### Contexto Comercial\n",
    "\n",
    "**HospeDate SA** es una cadena Portuguesa que administra hoteles, a través de su área de contabilidad pidió recabar información sobre las reservas hechas en sus establecimientos, para llevar a cabo un análisis completo con el fin de detectar oportunidades para aumentar sus ingresos y conocer las preferencias de sus usuarios."
   ]
  },
  {
   "cell_type": "markdown",
   "metadata": {},
   "source": [
    "### Problema Comercial\n",
    "\n",
    "El rubro hotelero está sujeto a varios eventos externos que hacen complejas las tomas de decisiones como la competencia, clima metereológico y la estacionalidad pero hay otros eventos que podemos llegar a preveer como las **Cancelaciones de reservas** que afectan la explotacion de las habitaciones, es por eso que vamos a concentrarnos en este fenómeno."
   ]
  },
  {
   "cell_type": "markdown",
   "metadata": {},
   "source": [
    "### Definición del Objetivo\n",
    "\n",
    "Como objetivo principal nos proponemos desarrollar un modelo que pueda predecir que porcentaje aproximado de reservas serán canceladas.\n",
    "\n",
    "Como objetivo secundario y en base al porcentaje arrojado por el modelo decidir de que forma se va a trabajar ese resultado para maximizar las ganancias al sobrevender habitaciones susceptibles a ser canceladas en una primer instancia o minimizar las pérdidas tratando de conservar el cliente ofreciendo mejoras en los servicios"
   ]
  },
  {
   "cell_type": "markdown",
   "metadata": {},
   "source": [
    "### Contexto Analítico\n",
    "\n",
    "Disponemos de un dataset con las reservas hechas en los ultimos 3 años (casi 120.000 datos) divididos en 32 columnas con datos cuantitativos y cualitativos, las cuales vamos a analizar para ir reduciendo sus números y asi el contexto sobre el cual nos vamos a enfocar para el trabajo.\n",
    "\n",
    "**Fuente:** <https://www.kaggle.com/datasets/jessemostipak/hotel-booking-demand>"
   ]
  },
  {
   "cell_type": "code",
   "execution_count": 1,
   "metadata": {},
   "outputs": [],
   "source": [
    "# Importamos las librerías que vamos a necesitar\n",
    "import matplotlib as mpl\n",
    "import matplotlib.pyplot as plt\n",
    "import seaborn as sns\n",
    "sns.set()\n",
    "sns.set_style(\"white\")\n",
    "sns.set_palette(\"Paired\")\n",
    "import pandas as pd\n",
    "import datetime as dt\n",
    "import numpy as np"
   ]
  },
  {
   "cell_type": "code",
   "execution_count": 2,
   "metadata": {},
   "outputs": [
    {
     "data": {
      "text/html": [
       "<div>\n",
       "<style scoped>\n",
       "    .dataframe tbody tr th:only-of-type {\n",
       "        vertical-align: middle;\n",
       "    }\n",
       "\n",
       "    .dataframe tbody tr th {\n",
       "        vertical-align: top;\n",
       "    }\n",
       "\n",
       "    .dataframe thead th {\n",
       "        text-align: right;\n",
       "    }\n",
       "</style>\n",
       "<table border=\"1\" class=\"dataframe\">\n",
       "  <thead>\n",
       "    <tr style=\"text-align: right;\">\n",
       "      <th></th>\n",
       "      <th>hotel</th>\n",
       "      <th>is_canceled</th>\n",
       "      <th>lead_time</th>\n",
       "      <th>arrival_date_year</th>\n",
       "      <th>arrival_date_month</th>\n",
       "      <th>arrival_date_week_number</th>\n",
       "      <th>arrival_date_day_of_month</th>\n",
       "      <th>stays_in_weekend_nights</th>\n",
       "      <th>stays_in_week_nights</th>\n",
       "      <th>adults</th>\n",
       "      <th>...</th>\n",
       "      <th>deposit_type</th>\n",
       "      <th>agent</th>\n",
       "      <th>company</th>\n",
       "      <th>days_in_waiting_list</th>\n",
       "      <th>customer_type</th>\n",
       "      <th>adr</th>\n",
       "      <th>required_car_parking_spaces</th>\n",
       "      <th>total_of_special_requests</th>\n",
       "      <th>reservation_status</th>\n",
       "      <th>reservation_status_date</th>\n",
       "    </tr>\n",
       "  </thead>\n",
       "  <tbody>\n",
       "    <tr>\n",
       "      <th>0</th>\n",
       "      <td>Resort Hotel</td>\n",
       "      <td>0</td>\n",
       "      <td>342</td>\n",
       "      <td>2015</td>\n",
       "      <td>7</td>\n",
       "      <td>27</td>\n",
       "      <td>1</td>\n",
       "      <td>0</td>\n",
       "      <td>0</td>\n",
       "      <td>2</td>\n",
       "      <td>...</td>\n",
       "      <td>No Deposit</td>\n",
       "      <td>NaN</td>\n",
       "      <td>NaN</td>\n",
       "      <td>0</td>\n",
       "      <td>Transient</td>\n",
       "      <td>0.0</td>\n",
       "      <td>0</td>\n",
       "      <td>0</td>\n",
       "      <td>Check-Out</td>\n",
       "      <td>2015-07-01</td>\n",
       "    </tr>\n",
       "    <tr>\n",
       "      <th>1</th>\n",
       "      <td>Resort Hotel</td>\n",
       "      <td>0</td>\n",
       "      <td>737</td>\n",
       "      <td>2015</td>\n",
       "      <td>7</td>\n",
       "      <td>27</td>\n",
       "      <td>1</td>\n",
       "      <td>0</td>\n",
       "      <td>0</td>\n",
       "      <td>2</td>\n",
       "      <td>...</td>\n",
       "      <td>No Deposit</td>\n",
       "      <td>NaN</td>\n",
       "      <td>NaN</td>\n",
       "      <td>0</td>\n",
       "      <td>Transient</td>\n",
       "      <td>0.0</td>\n",
       "      <td>0</td>\n",
       "      <td>0</td>\n",
       "      <td>Check-Out</td>\n",
       "      <td>2015-07-01</td>\n",
       "    </tr>\n",
       "    <tr>\n",
       "      <th>2</th>\n",
       "      <td>Resort Hotel</td>\n",
       "      <td>0</td>\n",
       "      <td>7</td>\n",
       "      <td>2015</td>\n",
       "      <td>7</td>\n",
       "      <td>27</td>\n",
       "      <td>1</td>\n",
       "      <td>0</td>\n",
       "      <td>1</td>\n",
       "      <td>1</td>\n",
       "      <td>...</td>\n",
       "      <td>No Deposit</td>\n",
       "      <td>NaN</td>\n",
       "      <td>NaN</td>\n",
       "      <td>0</td>\n",
       "      <td>Transient</td>\n",
       "      <td>75.0</td>\n",
       "      <td>0</td>\n",
       "      <td>0</td>\n",
       "      <td>Check-Out</td>\n",
       "      <td>2015-07-02</td>\n",
       "    </tr>\n",
       "    <tr>\n",
       "      <th>3</th>\n",
       "      <td>Resort Hotel</td>\n",
       "      <td>0</td>\n",
       "      <td>13</td>\n",
       "      <td>2015</td>\n",
       "      <td>7</td>\n",
       "      <td>27</td>\n",
       "      <td>1</td>\n",
       "      <td>0</td>\n",
       "      <td>1</td>\n",
       "      <td>1</td>\n",
       "      <td>...</td>\n",
       "      <td>No Deposit</td>\n",
       "      <td>304.0</td>\n",
       "      <td>NaN</td>\n",
       "      <td>0</td>\n",
       "      <td>Transient</td>\n",
       "      <td>75.0</td>\n",
       "      <td>0</td>\n",
       "      <td>0</td>\n",
       "      <td>Check-Out</td>\n",
       "      <td>2015-07-02</td>\n",
       "    </tr>\n",
       "    <tr>\n",
       "      <th>4</th>\n",
       "      <td>Resort Hotel</td>\n",
       "      <td>0</td>\n",
       "      <td>14</td>\n",
       "      <td>2015</td>\n",
       "      <td>7</td>\n",
       "      <td>27</td>\n",
       "      <td>1</td>\n",
       "      <td>0</td>\n",
       "      <td>2</td>\n",
       "      <td>2</td>\n",
       "      <td>...</td>\n",
       "      <td>No Deposit</td>\n",
       "      <td>240.0</td>\n",
       "      <td>NaN</td>\n",
       "      <td>0</td>\n",
       "      <td>Transient</td>\n",
       "      <td>98.0</td>\n",
       "      <td>0</td>\n",
       "      <td>1</td>\n",
       "      <td>Check-Out</td>\n",
       "      <td>2015-07-03</td>\n",
       "    </tr>\n",
       "  </tbody>\n",
       "</table>\n",
       "<p>5 rows × 32 columns</p>\n",
       "</div>"
      ],
      "text/plain": [
       "          hotel  is_canceled  lead_time  arrival_date_year  \\\n",
       "0  Resort Hotel            0        342               2015   \n",
       "1  Resort Hotel            0        737               2015   \n",
       "2  Resort Hotel            0          7               2015   \n",
       "3  Resort Hotel            0         13               2015   \n",
       "4  Resort Hotel            0         14               2015   \n",
       "\n",
       "   arrival_date_month  arrival_date_week_number  arrival_date_day_of_month  \\\n",
       "0                   7                        27                          1   \n",
       "1                   7                        27                          1   \n",
       "2                   7                        27                          1   \n",
       "3                   7                        27                          1   \n",
       "4                   7                        27                          1   \n",
       "\n",
       "   stays_in_weekend_nights  stays_in_week_nights  adults  ...  deposit_type  \\\n",
       "0                        0                     0       2  ...    No Deposit   \n",
       "1                        0                     0       2  ...    No Deposit   \n",
       "2                        0                     1       1  ...    No Deposit   \n",
       "3                        0                     1       1  ...    No Deposit   \n",
       "4                        0                     2       2  ...    No Deposit   \n",
       "\n",
       "   agent company days_in_waiting_list customer_type   adr  \\\n",
       "0    NaN     NaN                    0     Transient   0.0   \n",
       "1    NaN     NaN                    0     Transient   0.0   \n",
       "2    NaN     NaN                    0     Transient  75.0   \n",
       "3  304.0     NaN                    0     Transient  75.0   \n",
       "4  240.0     NaN                    0     Transient  98.0   \n",
       "\n",
       "   required_car_parking_spaces  total_of_special_requests  reservation_status  \\\n",
       "0                            0                          0           Check-Out   \n",
       "1                            0                          0           Check-Out   \n",
       "2                            0                          0           Check-Out   \n",
       "3                            0                          0           Check-Out   \n",
       "4                            0                          1           Check-Out   \n",
       "\n",
       "  reservation_status_date  \n",
       "0              2015-07-01  \n",
       "1              2015-07-01  \n",
       "2              2015-07-02  \n",
       "3              2015-07-02  \n",
       "4              2015-07-03  \n",
       "\n",
       "[5 rows x 32 columns]"
      ]
     },
     "execution_count": 2,
     "metadata": {},
     "output_type": "execute_result"
    }
   ],
   "source": [
    "# Cargamos la url,la leemos e imprimimos el head\n",
    "url = 'https://raw.githubusercontent.com/MauroNicolasRivero/Data-Science/main/hotel_bookings.csv'\n",
    "Hotel = pd.read_csv(url, sep=(';'))\n",
    "Hotel.head()"
   ]
  },
  {
   "cell_type": "markdown",
   "metadata": {},
   "source": [
    "## Data Wranglig\n",
    "\n",
    "Aqui comienza el proceso de transformación y limpieza de los datos para su posterior análisis"
   ]
  },
  {
   "cell_type": "code",
   "execution_count": 3,
   "metadata": {},
   "outputs": [
    {
     "name": "stdout",
     "output_type": "stream",
     "text": [
      "<class 'pandas.core.frame.DataFrame'>\n",
      "RangeIndex: 119390 entries, 0 to 119389\n",
      "Data columns (total 32 columns):\n",
      " #   Column                          Non-Null Count   Dtype  \n",
      "---  ------                          --------------   -----  \n",
      " 0   hotel                           119390 non-null  object \n",
      " 1   is_canceled                     119390 non-null  int64  \n",
      " 2   lead_time                       119390 non-null  int64  \n",
      " 3   arrival_date_year               119390 non-null  int64  \n",
      " 4   arrival_date_month              119390 non-null  int64  \n",
      " 5   arrival_date_week_number        119390 non-null  int64  \n",
      " 6   arrival_date_day_of_month       119390 non-null  int64  \n",
      " 7   stays_in_weekend_nights         119390 non-null  int64  \n",
      " 8   stays_in_week_nights            119390 non-null  int64  \n",
      " 9   adults                          119390 non-null  int64  \n",
      " 10  children                        119386 non-null  float64\n",
      " 11  babies                          119390 non-null  int64  \n",
      " 12  meal                            119390 non-null  object \n",
      " 13  country                         118902 non-null  object \n",
      " 14  market_segment                  119390 non-null  object \n",
      " 15  distribution_channel            119390 non-null  object \n",
      " 16  is_repeated_guest               119390 non-null  int64  \n",
      " 17  previous_cancellations          119390 non-null  int64  \n",
      " 18  previous_bookings_not_canceled  119390 non-null  int64  \n",
      " 19  reserved_room_type              119390 non-null  object \n",
      " 20  assigned_room_type              119390 non-null  object \n",
      " 21  booking_changes                 119390 non-null  int64  \n",
      " 22  deposit_type                    119390 non-null  object \n",
      " 23  agent                           103050 non-null  float64\n",
      " 24  company                         6797 non-null    float64\n",
      " 25  days_in_waiting_list            119390 non-null  int64  \n",
      " 26  customer_type                   119390 non-null  object \n",
      " 27  adr                             119390 non-null  float64\n",
      " 28  required_car_parking_spaces     119390 non-null  int64  \n",
      " 29  total_of_special_requests       119390 non-null  int64  \n",
      " 30  reservation_status              119390 non-null  object \n",
      " 31  reservation_status_date         119390 non-null  object \n",
      "dtypes: float64(4), int64(17), object(11)\n",
      "memory usage: 29.1+ MB\n"
     ]
    }
   ],
   "source": [
    "# Mostramos toda la información en general de la que vamos a disponer\n",
    "Hotel.info()"
   ]
  },
  {
   "cell_type": "code",
   "execution_count": 4,
   "metadata": {},
   "outputs": [
    {
     "data": {
      "text/plain": [
       "hotel                                  0\n",
       "is_canceled                            0\n",
       "lead_time                              0\n",
       "arrival_date_year                      0\n",
       "arrival_date_month                     0\n",
       "arrival_date_week_number               0\n",
       "arrival_date_day_of_month              0\n",
       "stays_in_weekend_nights                0\n",
       "stays_in_week_nights                   0\n",
       "adults                                 0\n",
       "children                               4\n",
       "babies                                 0\n",
       "meal                                   0\n",
       "country                              488\n",
       "market_segment                         0\n",
       "distribution_channel                   0\n",
       "is_repeated_guest                      0\n",
       "previous_cancellations                 0\n",
       "previous_bookings_not_canceled         0\n",
       "reserved_room_type                     0\n",
       "assigned_room_type                     0\n",
       "booking_changes                        0\n",
       "deposit_type                           0\n",
       "agent                              16340\n",
       "company                           112593\n",
       "days_in_waiting_list                   0\n",
       "customer_type                          0\n",
       "adr                                    0\n",
       "required_car_parking_spaces            0\n",
       "total_of_special_requests              0\n",
       "reservation_status                     0\n",
       "reservation_status_date                0\n",
       "dtype: int64"
      ]
     },
     "execution_count": 4,
     "metadata": {},
     "output_type": "execute_result"
    }
   ],
   "source": [
    "# Consultamos si hay datos nulos\n",
    "Hotel.isnull().sum()"
   ]
  },
  {
   "cell_type": "markdown",
   "metadata": {},
   "source": [
    "Contamos con un dataset con **119390 filas** y **32 columnas**, observamos que hay poco datos nulos en las columnas que nos van a ser de interés y los tipos de datos son numéricos y categóricos, de estos últimos vamos a encargarnos de transformarlos para poder entrenar el algoritmo."
   ]
  },
  {
   "cell_type": "code",
   "execution_count": 5,
   "metadata": {},
   "outputs": [],
   "source": [
    "# Creamos nuevas columnas sumando datos que nos interesan que estén en una sola variable\n",
    "Hotel['People_Sum'] = Hotel.adults + Hotel.children + Hotel.babies\n",
    "Hotel['Days_Sum'] = Hotel.stays_in_weekend_nights + Hotel.stays_in_week_nights\n",
    "Hotel['Date_arrive']= pd.to_datetime(Hotel.arrival_date_year.astype(str) + '/' + Hotel.arrival_date_month.astype(str) + '/' + Hotel.arrival_date_day_of_month.astype(str))   \n",
    "\n",
    "# Asignamos el tipo de dato 'datetime' para poder hacer un nueva columna con una resta entre fechas\n",
    "Hotel['reservation_status_date']= pd.to_datetime(Hotel['reservation_status_date'])\n",
    "Hotel['Day_dif'] = Hotel['Date_arrive'] - Hotel['reservation_status_date']"
   ]
  },
  {
   "cell_type": "code",
   "execution_count": 6,
   "metadata": {},
   "outputs": [
    {
     "data": {
      "text/html": [
       "<div>\n",
       "<style scoped>\n",
       "    .dataframe tbody tr th:only-of-type {\n",
       "        vertical-align: middle;\n",
       "    }\n",
       "\n",
       "    .dataframe tbody tr th {\n",
       "        vertical-align: top;\n",
       "    }\n",
       "\n",
       "    .dataframe thead th {\n",
       "        text-align: right;\n",
       "    }\n",
       "</style>\n",
       "<table border=\"1\" class=\"dataframe\">\n",
       "  <thead>\n",
       "    <tr style=\"text-align: right;\">\n",
       "      <th></th>\n",
       "      <th>hotel</th>\n",
       "      <th>is_canceled</th>\n",
       "      <th>meal</th>\n",
       "      <th>country</th>\n",
       "      <th>market_segment</th>\n",
       "      <th>is_repeated_guest</th>\n",
       "      <th>previous_cancellations</th>\n",
       "      <th>reserved_room_type</th>\n",
       "      <th>assigned_room_type</th>\n",
       "      <th>deposit_type</th>\n",
       "      <th>customer_type</th>\n",
       "      <th>adr</th>\n",
       "      <th>reservation_status_date</th>\n",
       "      <th>People_Sum</th>\n",
       "      <th>Days_Sum</th>\n",
       "      <th>Date_arrive</th>\n",
       "      <th>Day_dif</th>\n",
       "    </tr>\n",
       "  </thead>\n",
       "  <tbody>\n",
       "    <tr>\n",
       "      <th>0</th>\n",
       "      <td>Resort Hotel</td>\n",
       "      <td>0</td>\n",
       "      <td>BB</td>\n",
       "      <td>PRT</td>\n",
       "      <td>Direct</td>\n",
       "      <td>0</td>\n",
       "      <td>0</td>\n",
       "      <td>C</td>\n",
       "      <td>C</td>\n",
       "      <td>No Deposit</td>\n",
       "      <td>Transient</td>\n",
       "      <td>0.00</td>\n",
       "      <td>2015-07-01</td>\n",
       "      <td>2.0</td>\n",
       "      <td>0</td>\n",
       "      <td>2015-07-01</td>\n",
       "      <td>0 days</td>\n",
       "    </tr>\n",
       "    <tr>\n",
       "      <th>1</th>\n",
       "      <td>Resort Hotel</td>\n",
       "      <td>0</td>\n",
       "      <td>BB</td>\n",
       "      <td>PRT</td>\n",
       "      <td>Direct</td>\n",
       "      <td>0</td>\n",
       "      <td>0</td>\n",
       "      <td>C</td>\n",
       "      <td>C</td>\n",
       "      <td>No Deposit</td>\n",
       "      <td>Transient</td>\n",
       "      <td>0.00</td>\n",
       "      <td>2015-07-01</td>\n",
       "      <td>2.0</td>\n",
       "      <td>0</td>\n",
       "      <td>2015-07-01</td>\n",
       "      <td>0 days</td>\n",
       "    </tr>\n",
       "    <tr>\n",
       "      <th>2</th>\n",
       "      <td>Resort Hotel</td>\n",
       "      <td>0</td>\n",
       "      <td>BB</td>\n",
       "      <td>GBR</td>\n",
       "      <td>Direct</td>\n",
       "      <td>0</td>\n",
       "      <td>0</td>\n",
       "      <td>A</td>\n",
       "      <td>C</td>\n",
       "      <td>No Deposit</td>\n",
       "      <td>Transient</td>\n",
       "      <td>75.00</td>\n",
       "      <td>2015-07-02</td>\n",
       "      <td>1.0</td>\n",
       "      <td>1</td>\n",
       "      <td>2015-07-01</td>\n",
       "      <td>-1 days</td>\n",
       "    </tr>\n",
       "    <tr>\n",
       "      <th>3</th>\n",
       "      <td>Resort Hotel</td>\n",
       "      <td>0</td>\n",
       "      <td>BB</td>\n",
       "      <td>GBR</td>\n",
       "      <td>Corporate</td>\n",
       "      <td>0</td>\n",
       "      <td>0</td>\n",
       "      <td>A</td>\n",
       "      <td>A</td>\n",
       "      <td>No Deposit</td>\n",
       "      <td>Transient</td>\n",
       "      <td>75.00</td>\n",
       "      <td>2015-07-02</td>\n",
       "      <td>1.0</td>\n",
       "      <td>1</td>\n",
       "      <td>2015-07-01</td>\n",
       "      <td>-1 days</td>\n",
       "    </tr>\n",
       "    <tr>\n",
       "      <th>4</th>\n",
       "      <td>Resort Hotel</td>\n",
       "      <td>0</td>\n",
       "      <td>BB</td>\n",
       "      <td>GBR</td>\n",
       "      <td>Online TA</td>\n",
       "      <td>0</td>\n",
       "      <td>0</td>\n",
       "      <td>A</td>\n",
       "      <td>A</td>\n",
       "      <td>No Deposit</td>\n",
       "      <td>Transient</td>\n",
       "      <td>98.00</td>\n",
       "      <td>2015-07-03</td>\n",
       "      <td>2.0</td>\n",
       "      <td>2</td>\n",
       "      <td>2015-07-01</td>\n",
       "      <td>-2 days</td>\n",
       "    </tr>\n",
       "    <tr>\n",
       "      <th>...</th>\n",
       "      <td>...</td>\n",
       "      <td>...</td>\n",
       "      <td>...</td>\n",
       "      <td>...</td>\n",
       "      <td>...</td>\n",
       "      <td>...</td>\n",
       "      <td>...</td>\n",
       "      <td>...</td>\n",
       "      <td>...</td>\n",
       "      <td>...</td>\n",
       "      <td>...</td>\n",
       "      <td>...</td>\n",
       "      <td>...</td>\n",
       "      <td>...</td>\n",
       "      <td>...</td>\n",
       "      <td>...</td>\n",
       "      <td>...</td>\n",
       "    </tr>\n",
       "    <tr>\n",
       "      <th>119385</th>\n",
       "      <td>City Hotel</td>\n",
       "      <td>0</td>\n",
       "      <td>BB</td>\n",
       "      <td>BEL</td>\n",
       "      <td>Offline TA/TO</td>\n",
       "      <td>0</td>\n",
       "      <td>0</td>\n",
       "      <td>A</td>\n",
       "      <td>A</td>\n",
       "      <td>No Deposit</td>\n",
       "      <td>Transient</td>\n",
       "      <td>96.14</td>\n",
       "      <td>2017-09-06</td>\n",
       "      <td>2.0</td>\n",
       "      <td>7</td>\n",
       "      <td>2017-08-30</td>\n",
       "      <td>-7 days</td>\n",
       "    </tr>\n",
       "    <tr>\n",
       "      <th>119386</th>\n",
       "      <td>City Hotel</td>\n",
       "      <td>0</td>\n",
       "      <td>BB</td>\n",
       "      <td>FRA</td>\n",
       "      <td>Online TA</td>\n",
       "      <td>0</td>\n",
       "      <td>0</td>\n",
       "      <td>E</td>\n",
       "      <td>E</td>\n",
       "      <td>No Deposit</td>\n",
       "      <td>Transient</td>\n",
       "      <td>225.43</td>\n",
       "      <td>2017-09-07</td>\n",
       "      <td>3.0</td>\n",
       "      <td>7</td>\n",
       "      <td>2017-08-31</td>\n",
       "      <td>-7 days</td>\n",
       "    </tr>\n",
       "    <tr>\n",
       "      <th>119387</th>\n",
       "      <td>City Hotel</td>\n",
       "      <td>0</td>\n",
       "      <td>BB</td>\n",
       "      <td>DEU</td>\n",
       "      <td>Online TA</td>\n",
       "      <td>0</td>\n",
       "      <td>0</td>\n",
       "      <td>D</td>\n",
       "      <td>D</td>\n",
       "      <td>No Deposit</td>\n",
       "      <td>Transient</td>\n",
       "      <td>157.71</td>\n",
       "      <td>2017-09-07</td>\n",
       "      <td>2.0</td>\n",
       "      <td>7</td>\n",
       "      <td>2017-08-31</td>\n",
       "      <td>-7 days</td>\n",
       "    </tr>\n",
       "    <tr>\n",
       "      <th>119388</th>\n",
       "      <td>City Hotel</td>\n",
       "      <td>0</td>\n",
       "      <td>BB</td>\n",
       "      <td>GBR</td>\n",
       "      <td>Online TA</td>\n",
       "      <td>0</td>\n",
       "      <td>0</td>\n",
       "      <td>A</td>\n",
       "      <td>A</td>\n",
       "      <td>No Deposit</td>\n",
       "      <td>Transient</td>\n",
       "      <td>104.40</td>\n",
       "      <td>2017-09-07</td>\n",
       "      <td>2.0</td>\n",
       "      <td>7</td>\n",
       "      <td>2017-08-31</td>\n",
       "      <td>-7 days</td>\n",
       "    </tr>\n",
       "    <tr>\n",
       "      <th>119389</th>\n",
       "      <td>City Hotel</td>\n",
       "      <td>0</td>\n",
       "      <td>HB</td>\n",
       "      <td>DEU</td>\n",
       "      <td>Online TA</td>\n",
       "      <td>0</td>\n",
       "      <td>0</td>\n",
       "      <td>A</td>\n",
       "      <td>A</td>\n",
       "      <td>No Deposit</td>\n",
       "      <td>Transient</td>\n",
       "      <td>151.20</td>\n",
       "      <td>2017-09-07</td>\n",
       "      <td>2.0</td>\n",
       "      <td>9</td>\n",
       "      <td>2017-08-29</td>\n",
       "      <td>-9 days</td>\n",
       "    </tr>\n",
       "  </tbody>\n",
       "</table>\n",
       "<p>119390 rows × 17 columns</p>\n",
       "</div>"
      ],
      "text/plain": [
       "               hotel  is_canceled meal country market_segment  \\\n",
       "0       Resort Hotel            0   BB     PRT         Direct   \n",
       "1       Resort Hotel            0   BB     PRT         Direct   \n",
       "2       Resort Hotel            0   BB     GBR         Direct   \n",
       "3       Resort Hotel            0   BB     GBR      Corporate   \n",
       "4       Resort Hotel            0   BB     GBR      Online TA   \n",
       "...              ...          ...  ...     ...            ...   \n",
       "119385    City Hotel            0   BB     BEL  Offline TA/TO   \n",
       "119386    City Hotel            0   BB     FRA      Online TA   \n",
       "119387    City Hotel            0   BB     DEU      Online TA   \n",
       "119388    City Hotel            0   BB     GBR      Online TA   \n",
       "119389    City Hotel            0   HB     DEU      Online TA   \n",
       "\n",
       "        is_repeated_guest  previous_cancellations reserved_room_type  \\\n",
       "0                       0                       0                  C   \n",
       "1                       0                       0                  C   \n",
       "2                       0                       0                  A   \n",
       "3                       0                       0                  A   \n",
       "4                       0                       0                  A   \n",
       "...                   ...                     ...                ...   \n",
       "119385                  0                       0                  A   \n",
       "119386                  0                       0                  E   \n",
       "119387                  0                       0                  D   \n",
       "119388                  0                       0                  A   \n",
       "119389                  0                       0                  A   \n",
       "\n",
       "       assigned_room_type deposit_type customer_type     adr  \\\n",
       "0                       C   No Deposit     Transient    0.00   \n",
       "1                       C   No Deposit     Transient    0.00   \n",
       "2                       C   No Deposit     Transient   75.00   \n",
       "3                       A   No Deposit     Transient   75.00   \n",
       "4                       A   No Deposit     Transient   98.00   \n",
       "...                   ...          ...           ...     ...   \n",
       "119385                  A   No Deposit     Transient   96.14   \n",
       "119386                  E   No Deposit     Transient  225.43   \n",
       "119387                  D   No Deposit     Transient  157.71   \n",
       "119388                  A   No Deposit     Transient  104.40   \n",
       "119389                  A   No Deposit     Transient  151.20   \n",
       "\n",
       "       reservation_status_date  People_Sum  Days_Sum Date_arrive Day_dif  \n",
       "0                   2015-07-01         2.0         0  2015-07-01  0 days  \n",
       "1                   2015-07-01         2.0         0  2015-07-01  0 days  \n",
       "2                   2015-07-02         1.0         1  2015-07-01 -1 days  \n",
       "3                   2015-07-02         1.0         1  2015-07-01 -1 days  \n",
       "4                   2015-07-03         2.0         2  2015-07-01 -2 days  \n",
       "...                        ...         ...       ...         ...     ...  \n",
       "119385              2017-09-06         2.0         7  2017-08-30 -7 days  \n",
       "119386              2017-09-07         3.0         7  2017-08-31 -7 days  \n",
       "119387              2017-09-07         2.0         7  2017-08-31 -7 days  \n",
       "119388              2017-09-07         2.0         7  2017-08-31 -7 days  \n",
       "119389              2017-09-07         2.0         9  2017-08-29 -9 days  \n",
       "\n",
       "[119390 rows x 17 columns]"
      ]
     },
     "execution_count": 6,
     "metadata": {},
     "output_type": "execute_result"
    }
   ],
   "source": [
    "# Eliminamos las columnas que no vamos a tomar en cuenta\n",
    "Hotel_1 = Hotel.drop(Hotel.iloc[ : , [2,3,4,5,6,7,8,9,10,11,15,18,21,23,24,25,28,29,30]], axis = 1)\n",
    "Hotel_1"
   ]
  },
  {
   "cell_type": "code",
   "execution_count": 7,
   "metadata": {},
   "outputs": [],
   "source": [
    "# Eliminamos los valores que no nos interesa tener en cero y reseteamos el index\n",
    "Hotel_1['country'] = Hotel_1['country'].replace(0, np.nan)\n",
    "Hotel_1['People_Sum'] = Hotel_1['People_Sum'].replace(0, np.nan)\n",
    "Hotel_1['Days_Sum'] =Hotel_1['Days_Sum'].replace(0, np.nan)\n",
    "Hotel_1.dropna(inplace=True)\n",
    "Hotel_1 = Hotel_1.reset_index(drop=True)"
   ]
  },
  {
   "cell_type": "markdown",
   "metadata": {},
   "source": [
    "Fin de la etapa de **Data Wrangling**, sobre el Dataset original:\n",
    "\n",
    "* Creamos la variable *People_Sum* sumando las columnas  *adults*,*children* y *babies*.\n",
    "* Creamos la variable *Days_Sum* sumando las columnas *stays_in_weekend_nights* y *stays_in_week_nights*.\n",
    "* Creamos la variable *Date_arrive* sumando las columnas *arrival_date_year*, *arrival_date_month* y *arrival_date_day_of_month* las cuales con anterioridad fueron cambiadas los tipos de datos para permitir la concatenacion como Strings.\n",
    "* Creamos la variable *Day_dif* restando las fechas *Date_arrive* menos *reservation_status_date* para conocer cuantos días antes a la fecha de arribo se producia la cancelación.\n",
    "* Cambiamos el tipo de dato a las columnas que tenian información sobre fechas."
   ]
  },
  {
   "cell_type": "markdown",
   "metadata": {},
   "source": [
    "## Análisis Exploratorio de las Variables del Dataset\n",
    "\n",
    "En esta etapa vamos a explorar las variables, graficandolas según corresponda con su contenido y haciendo luego un breve análisis sobre lo que nos muestra el gráfico"
   ]
  },
  {
   "cell_type": "markdown",
   "metadata": {},
   "source": [
    "### Cancelaciones\n",
    "\n",
    "Primero vamos a conocer que porcentaje del total de reservas fueron canceladas"
   ]
  },
  {
   "cell_type": "code",
   "execution_count": 8,
   "metadata": {},
   "outputs": [
    {
     "data": {
      "text/plain": [
       "0    73973\n",
       "1    44115\n",
       "Name: is_canceled, dtype: int64"
      ]
     },
     "execution_count": 8,
     "metadata": {},
     "output_type": "execute_result"
    },
    {
     "data": {
      "image/png": "[encoded data removed]",
      "text/plain": [
       "<Figure size 720x432 with 1 Axes>"
      ]
     },
     "metadata": {},
     "output_type": "display_data"
    }
   ],
   "source": [
    "Is_canceled_or_not = Hotel_1.is_canceled.value_counts()\n",
    "Is_canceled_or_not\n",
    "\n",
    "fig,ax = plt.subplots(figsize =(10, 6))\n",
    "ax.pie(Is_canceled_or_not, labels = Is_canceled_or_not.index, autopct='%1.2f%%')\n",
    "ax.set_title('Reserva Canceladas vs No Canceladas')\n",
    "Hotel_1.is_canceled.value_counts()"
   ]
  },
  {
   "cell_type": "markdown",
   "metadata": {},
   "source": [
    "Observamos que el 37.36 % de las reservas hechas fueron posteriormente canceladas, por lo cuál de ahora en más vamos a enfocarnos en esos datos buscando patrones que nos ayuden a armar el modelo"
   ]
  },
  {
   "cell_type": "code",
   "execution_count": 9,
   "metadata": {},
   "outputs": [
    {
     "data": {
      "text/html": [
       "<div>\n",
       "<style scoped>\n",
       "    .dataframe tbody tr th:only-of-type {\n",
       "        vertical-align: middle;\n",
       "    }\n",
       "\n",
       "    .dataframe tbody tr th {\n",
       "        vertical-align: top;\n",
       "    }\n",
       "\n",
       "    .dataframe thead th {\n",
       "        text-align: right;\n",
       "    }\n",
       "</style>\n",
       "<table border=\"1\" class=\"dataframe\">\n",
       "  <thead>\n",
       "    <tr style=\"text-align: right;\">\n",
       "      <th></th>\n",
       "      <th>hotel</th>\n",
       "      <th>is_canceled</th>\n",
       "      <th>meal</th>\n",
       "      <th>country</th>\n",
       "      <th>market_segment</th>\n",
       "      <th>is_repeated_guest</th>\n",
       "      <th>previous_cancellations</th>\n",
       "      <th>reserved_room_type</th>\n",
       "      <th>assigned_room_type</th>\n",
       "      <th>deposit_type</th>\n",
       "      <th>customer_type</th>\n",
       "      <th>adr</th>\n",
       "      <th>reservation_status_date</th>\n",
       "      <th>People_Sum</th>\n",
       "      <th>Days_Sum</th>\n",
       "      <th>Date_arrive</th>\n",
       "      <th>Day_dif</th>\n",
       "    </tr>\n",
       "  </thead>\n",
       "  <tbody>\n",
       "    <tr>\n",
       "      <th>6</th>\n",
       "      <td>Resort Hotel</td>\n",
       "      <td>1</td>\n",
       "      <td>BB</td>\n",
       "      <td>PRT</td>\n",
       "      <td>Online TA</td>\n",
       "      <td>0</td>\n",
       "      <td>0</td>\n",
       "      <td>A</td>\n",
       "      <td>A</td>\n",
       "      <td>No Deposit</td>\n",
       "      <td>Transient</td>\n",
       "      <td>82.0</td>\n",
       "      <td>2015-05-06</td>\n",
       "      <td>2.0</td>\n",
       "      <td>3.0</td>\n",
       "      <td>2015-07-01</td>\n",
       "      <td>56 days</td>\n",
       "    </tr>\n",
       "    <tr>\n",
       "      <th>7</th>\n",
       "      <td>Resort Hotel</td>\n",
       "      <td>1</td>\n",
       "      <td>HB</td>\n",
       "      <td>PRT</td>\n",
       "      <td>Offline TA/TO</td>\n",
       "      <td>0</td>\n",
       "      <td>0</td>\n",
       "      <td>D</td>\n",
       "      <td>D</td>\n",
       "      <td>No Deposit</td>\n",
       "      <td>Transient</td>\n",
       "      <td>105.5</td>\n",
       "      <td>2015-04-22</td>\n",
       "      <td>2.0</td>\n",
       "      <td>3.0</td>\n",
       "      <td>2015-07-01</td>\n",
       "      <td>70 days</td>\n",
       "    </tr>\n",
       "    <tr>\n",
       "      <th>8</th>\n",
       "      <td>Resort Hotel</td>\n",
       "      <td>1</td>\n",
       "      <td>BB</td>\n",
       "      <td>PRT</td>\n",
       "      <td>Online TA</td>\n",
       "      <td>0</td>\n",
       "      <td>0</td>\n",
       "      <td>E</td>\n",
       "      <td>E</td>\n",
       "      <td>No Deposit</td>\n",
       "      <td>Transient</td>\n",
       "      <td>123.0</td>\n",
       "      <td>2015-06-23</td>\n",
       "      <td>2.0</td>\n",
       "      <td>4.0</td>\n",
       "      <td>2015-07-01</td>\n",
       "      <td>8 days</td>\n",
       "    </tr>\n",
       "    <tr>\n",
       "      <th>25</th>\n",
       "      <td>Resort Hotel</td>\n",
       "      <td>1</td>\n",
       "      <td>BB</td>\n",
       "      <td>PRT</td>\n",
       "      <td>Online TA</td>\n",
       "      <td>0</td>\n",
       "      <td>0</td>\n",
       "      <td>E</td>\n",
       "      <td>E</td>\n",
       "      <td>No Deposit</td>\n",
       "      <td>Transient</td>\n",
       "      <td>107.0</td>\n",
       "      <td>2015-05-11</td>\n",
       "      <td>2.0</td>\n",
       "      <td>7.0</td>\n",
       "      <td>2015-07-01</td>\n",
       "      <td>51 days</td>\n",
       "    </tr>\n",
       "    <tr>\n",
       "      <th>29</th>\n",
       "      <td>Resort Hotel</td>\n",
       "      <td>1</td>\n",
       "      <td>BB</td>\n",
       "      <td>PRT</td>\n",
       "      <td>Direct</td>\n",
       "      <td>0</td>\n",
       "      <td>0</td>\n",
       "      <td>E</td>\n",
       "      <td>E</td>\n",
       "      <td>No Deposit</td>\n",
       "      <td>Transient</td>\n",
       "      <td>108.3</td>\n",
       "      <td>2015-05-29</td>\n",
       "      <td>2.0</td>\n",
       "      <td>10.0</td>\n",
       "      <td>2015-07-01</td>\n",
       "      <td>33 days</td>\n",
       "    </tr>\n",
       "    <tr>\n",
       "      <th>...</th>\n",
       "      <td>...</td>\n",
       "      <td>...</td>\n",
       "      <td>...</td>\n",
       "      <td>...</td>\n",
       "      <td>...</td>\n",
       "      <td>...</td>\n",
       "      <td>...</td>\n",
       "      <td>...</td>\n",
       "      <td>...</td>\n",
       "      <td>...</td>\n",
       "      <td>...</td>\n",
       "      <td>...</td>\n",
       "      <td>...</td>\n",
       "      <td>...</td>\n",
       "      <td>...</td>\n",
       "      <td>...</td>\n",
       "      <td>...</td>\n",
       "    </tr>\n",
       "    <tr>\n",
       "      <th>107563</th>\n",
       "      <td>City Hotel</td>\n",
       "      <td>1</td>\n",
       "      <td>BB</td>\n",
       "      <td>FRA</td>\n",
       "      <td>Corporate</td>\n",
       "      <td>1</td>\n",
       "      <td>0</td>\n",
       "      <td>E</td>\n",
       "      <td>F</td>\n",
       "      <td>No Deposit</td>\n",
       "      <td>Transient</td>\n",
       "      <td>125.0</td>\n",
       "      <td>2017-05-06</td>\n",
       "      <td>1.0</td>\n",
       "      <td>3.0</td>\n",
       "      <td>2017-05-06</td>\n",
       "      <td>0 days</td>\n",
       "    </tr>\n",
       "    <tr>\n",
       "      <th>110080</th>\n",
       "      <td>City Hotel</td>\n",
       "      <td>1</td>\n",
       "      <td>BB</td>\n",
       "      <td>PRT</td>\n",
       "      <td>Corporate</td>\n",
       "      <td>1</td>\n",
       "      <td>0</td>\n",
       "      <td>A</td>\n",
       "      <td>A</td>\n",
       "      <td>No Deposit</td>\n",
       "      <td>Transient</td>\n",
       "      <td>65.0</td>\n",
       "      <td>2017-06-05</td>\n",
       "      <td>1.0</td>\n",
       "      <td>1.0</td>\n",
       "      <td>2017-06-05</td>\n",
       "      <td>0 days</td>\n",
       "    </tr>\n",
       "    <tr>\n",
       "      <th>110644</th>\n",
       "      <td>City Hotel</td>\n",
       "      <td>1</td>\n",
       "      <td>BB</td>\n",
       "      <td>PRT</td>\n",
       "      <td>Corporate</td>\n",
       "      <td>1</td>\n",
       "      <td>0</td>\n",
       "      <td>A</td>\n",
       "      <td>A</td>\n",
       "      <td>No Deposit</td>\n",
       "      <td>Transient</td>\n",
       "      <td>65.0</td>\n",
       "      <td>2017-05-31</td>\n",
       "      <td>1.0</td>\n",
       "      <td>1.0</td>\n",
       "      <td>2017-05-31</td>\n",
       "      <td>0 days</td>\n",
       "    </tr>\n",
       "    <tr>\n",
       "      <th>110645</th>\n",
       "      <td>City Hotel</td>\n",
       "      <td>1</td>\n",
       "      <td>BB</td>\n",
       "      <td>PRT</td>\n",
       "      <td>Corporate</td>\n",
       "      <td>1</td>\n",
       "      <td>1</td>\n",
       "      <td>A</td>\n",
       "      <td>D</td>\n",
       "      <td>No Deposit</td>\n",
       "      <td>Transient</td>\n",
       "      <td>65.0</td>\n",
       "      <td>2017-07-17</td>\n",
       "      <td>1.0</td>\n",
       "      <td>1.0</td>\n",
       "      <td>2017-07-17</td>\n",
       "      <td>0 days</td>\n",
       "    </tr>\n",
       "    <tr>\n",
       "      <th>115997</th>\n",
       "      <td>City Hotel</td>\n",
       "      <td>1</td>\n",
       "      <td>BB</td>\n",
       "      <td>PRT</td>\n",
       "      <td>Corporate</td>\n",
       "      <td>1</td>\n",
       "      <td>0</td>\n",
       "      <td>A</td>\n",
       "      <td>C</td>\n",
       "      <td>No Deposit</td>\n",
       "      <td>Transient</td>\n",
       "      <td>65.0</td>\n",
       "      <td>2017-08-02</td>\n",
       "      <td>1.0</td>\n",
       "      <td>2.0</td>\n",
       "      <td>2017-08-02</td>\n",
       "      <td>0 days</td>\n",
       "    </tr>\n",
       "  </tbody>\n",
       "</table>\n",
       "<p>44115 rows × 17 columns</p>\n",
       "</div>"
      ],
      "text/plain": [
       "               hotel  is_canceled meal country market_segment  \\\n",
       "6       Resort Hotel            1   BB     PRT      Online TA   \n",
       "7       Resort Hotel            1   HB     PRT  Offline TA/TO   \n",
       "8       Resort Hotel            1   BB     PRT      Online TA   \n",
       "25      Resort Hotel            1   BB     PRT      Online TA   \n",
       "29      Resort Hotel            1   BB     PRT         Direct   \n",
       "...              ...          ...  ...     ...            ...   \n",
       "107563    City Hotel            1   BB     FRA      Corporate   \n",
       "110080    City Hotel            1   BB     PRT      Corporate   \n",
       "110644    City Hotel            1   BB     PRT      Corporate   \n",
       "110645    City Hotel            1   BB     PRT      Corporate   \n",
       "115997    City Hotel            1   BB     PRT      Corporate   \n",
       "\n",
       "        is_repeated_guest  previous_cancellations reserved_room_type  \\\n",
       "6                       0                       0                  A   \n",
       "7                       0                       0                  D   \n",
       "8                       0                       0                  E   \n",
       "25                      0                       0                  E   \n",
       "29                      0                       0                  E   \n",
       "...                   ...                     ...                ...   \n",
       "107563                  1                       0                  E   \n",
       "110080                  1                       0                  A   \n",
       "110644                  1                       0                  A   \n",
       "110645                  1                       1                  A   \n",
       "115997                  1                       0                  A   \n",
       "\n",
       "       assigned_room_type deposit_type customer_type    adr  \\\n",
       "6                       A   No Deposit     Transient   82.0   \n",
       "7                       D   No Deposit     Transient  105.5   \n",
       "8                       E   No Deposit     Transient  123.0   \n",
       "25                      E   No Deposit     Transient  107.0   \n",
       "29                      E   No Deposit     Transient  108.3   \n",
       "...                   ...          ...           ...    ...   \n",
       "107563                  F   No Deposit     Transient  125.0   \n",
       "110080                  A   No Deposit     Transient   65.0   \n",
       "110644                  A   No Deposit     Transient   65.0   \n",
       "110645                  D   No Deposit     Transient   65.0   \n",
       "115997                  C   No Deposit     Transient   65.0   \n",
       "\n",
       "       reservation_status_date  People_Sum  Days_Sum Date_arrive Day_dif  \n",
       "6                   2015-05-06         2.0       3.0  2015-07-01 56 days  \n",
       "7                   2015-04-22         2.0       3.0  2015-07-01 70 days  \n",
       "8                   2015-06-23         2.0       4.0  2015-07-01  8 days  \n",
       "25                  2015-05-11         2.0       7.0  2015-07-01 51 days  \n",
       "29                  2015-05-29         2.0      10.0  2015-07-01 33 days  \n",
       "...                        ...         ...       ...         ...     ...  \n",
       "107563              2017-05-06         1.0       3.0  2017-05-06  0 days  \n",
       "110080              2017-06-05         1.0       1.0  2017-06-05  0 days  \n",
       "110644              2017-05-31         1.0       1.0  2017-05-31  0 days  \n",
       "110645              2017-07-17         1.0       1.0  2017-07-17  0 days  \n",
       "115997              2017-08-02         1.0       2.0  2017-08-02  0 days  \n",
       "\n",
       "[44115 rows x 17 columns]"
      ]
     },
     "execution_count": 9,
     "metadata": {},
     "output_type": "execute_result"
    }
   ],
   "source": [
    "# Hacemos un filtro sobre la variabe \"is_canceled\" para trabajar solamente con las reservas canceladas\n",
    "# El propósito es descubrir patrones de comportamiento de los clientes que han cancelado la reserva\n",
    "\n",
    "canceled = Hotel_1[Hotel_1['is_canceled'] == 1]\n",
    "canceled"
   ]
  },
  {
   "cell_type": "markdown",
   "metadata": {},
   "source": [
    "### Breve descripción de las variables que vamos a utilizar\n",
    " \n",
    " 1. **Hotel**: *Tipos de hoteles*\n",
    " 2. **Is_canceled**: *Muestra si fue o no cancelada la reserva*\n",
    " 3. **Meal**: *Comidas ofrecidas por el hotel*\n",
    " 4. **Country**: *País procedente de los huéspedes*\n",
    " 5. **Market_Segment**: *Segmento del mercado que operó en la reserva*\n",
    " 6. **Is_repeated_guest**: *Si el cliente ya ha reservado en alguna otra ocasión*\n",
    " 7. **Previuos_cancellations**: *Si el cliente ha incurrido en una cancelación anteriormente*\n",
    " 8. **Reserved_room_type**: *Tipo de habitación reservada*\n",
    " 9. **Assigned_room_type**: *Tipo de habitación asignada*\n",
    " 10. **Deposit_type**: *Muestra si han hecho un depósito previo o no*\n",
    " 11. **Customer_type**: *Muestra que tipos de clientes son* \n",
    " 12. **Adr**: *Es una métrica que muestra la tarifa promedio por habitación*\n",
    " 13. **Reservation_status_date**: *Fecha de la última actualización de la reserva*\n",
    " 14. **People_sum**: *Es la suma de las distintas variables que representan los huéspedes*\n",
    " 15. **Days_Sum**: *Sumatoria de los dias reservados ya sean entre semana o fin de semana*\n",
    " 16. **Date_arrive**: *Fecha de llegada declarada en la reserva*\n",
    " 17. **Day_dif**: *Representa cuantos dias antes de la fecha de arribo se produjo la cancelación*"
   ]
  },
  {
   "cell_type": "markdown",
   "metadata": {},
   "source": [
    "### Hoteles\n",
    "\n",
    "\n",
    "Veamos con que tipos de hoteles contamos"
   ]
  },
  {
   "cell_type": "code",
   "execution_count": 10,
   "metadata": {},
   "outputs": [
    {
     "data": {
      "text/plain": [
       "City Hotel      33048\n",
       "Resort Hotel    11067\n",
       "Name: hotel, dtype: int64"
      ]
     },
     "execution_count": 10,
     "metadata": {},
     "output_type": "execute_result"
    },
    {
     "data": {
      "image/png": "[encoded data removed]",
      "text/plain": [
       "<Figure size 720x432 with 1 Axes>"
      ]
     },
     "metadata": {},
     "output_type": "display_data"
    }
   ],
   "source": [
    "plt.figure(figsize=(10,6))\n",
    "sns.countplot(x=canceled.hotel, data = canceled)\n",
    "sns.despine(top=True)\n",
    "plt.xlabel('Tipo de Hotel')\n",
    "plt.ylabel('Cantidad')\n",
    "plt.title('Cantidad de Reservas Canceladas por Tipo de Hotel')\n",
    "canceled.hotel.value_counts()"
   ]
  },
  {
   "cell_type": "markdown",
   "metadata": {},
   "source": [
    "Observamos que de las 44115 reservas canceladas, 3/4 corresponden al tipo \"City\""
   ]
  },
  {
   "cell_type": "markdown",
   "metadata": {},
   "source": [
    "### Comidas\n",
    "\n",
    "Veamos con que tipos de comidas contamos"
   ]
  },
  {
   "cell_type": "code",
   "execution_count": 11,
   "metadata": {},
   "outputs": [
    {
     "data": {
      "text/plain": [
       "BB           34428\n",
       "HB            4980\n",
       "SC            3943\n",
       "FB             478\n",
       "Undefined      286\n",
       "Name: meal, dtype: int64"
      ]
     },
     "execution_count": 11,
     "metadata": {},
     "output_type": "execute_result"
    },
    {
     "data": {
      "image/png": "[encoded data removed]",
      "text/plain": [
       "<Figure size 720x432 with 1 Axes>"
      ]
     },
     "metadata": {},
     "output_type": "display_data"
    }
   ],
   "source": [
    "plt.figure(figsize=(10,6))\n",
    "sns.countplot(x=canceled.meal, data = canceled)\n",
    "sns.despine(top=True)\n",
    "plt.xlabel('Tipo de Comidas')\n",
    "plt.ylabel('Cantidad')\n",
    "plt.title('Cantidad de Reservas Canceladas por Tipo de Comidas')\n",
    "canceled.meal.value_counts()"
   ]
  },
  {
   "cell_type": "markdown",
   "metadata": {},
   "source": [
    "Vemos que el 80 % de las reservas que fueron canceladas habían optado por la opción Bed and Breakfast"
   ]
  },
  {
   "cell_type": "markdown",
   "metadata": {},
   "source": [
    "### Paises\n",
    "\n",
    "Veamos el Top 10 de Paises con mayor frecuencia de cancelaciones"
   ]
  },
  {
   "cell_type": "code",
   "execution_count": 12,
   "metadata": {},
   "outputs": [
    {
     "data": {
      "text/plain": [
       "PRT    27490\n",
       "GBR     2451\n",
       "ESP     2176\n",
       "FRA     1932\n",
       "ITA     1332\n",
       "DEU     1218\n",
       "IRL      832\n",
       "BRA      829\n",
       "USA      501\n",
       "BEL      473\n",
       "Name: country, dtype: int64"
      ]
     },
     "execution_count": 12,
     "metadata": {},
     "output_type": "execute_result"
    },
    {
     "data": {
      "image/png": "[encoded data removed]",
      "text/plain": [
       "<Figure size 720x432 with 1 Axes>"
      ]
     },
     "metadata": {},
     "output_type": "display_data"
    }
   ],
   "source": [
    "Top_10_countries = ['PRT','GBR','ESP','FRA' ,'ITA','DEU','IRL','BRA','USA','BEL']\n",
    "Top_10_countries_values = [27518,2453,2177,1934,1333,1218,832,830,501,474]\n",
    "\n",
    "plt.figure(figsize=(10,6))\n",
    "sns.barplot(x=Top_10_countries, y=Top_10_countries_values)\n",
    "sns.despine(top=True)\n",
    "plt.xlabel('Paises')\n",
    "plt.ylabel('Cantidad')\n",
    "plt.title('Top 10 de Reservas Canceladas por Paises')\n",
    "canceled.country.value_counts().head(10)"
   ]
  },
  {
   "cell_type": "markdown",
   "metadata": {},
   "source": [
    "Vemos una clara preponderancia de Portugal, seguido por 6 paises más de la UE, en el 8° lugar encontramos a Brasil representando junto a USA (9°) el Continente Americano, cerrando Belgica el 10° puesto. Recordemos que este dataset es de una cadena de hoteles Portuguesa, eso explica dicha preponderancia sobre el resto de los paises"
   ]
  },
  {
   "cell_type": "markdown",
   "metadata": {},
   "source": [
    "### Segmentos de mercados\n",
    "\n",
    "Veamos cuales son los segmentos del mercado que operaron en estas reservas canceladas"
   ]
  },
  {
   "cell_type": "code",
   "execution_count": 13,
   "metadata": {},
   "outputs": [
    {
     "data": {
      "text/plain": [
       "Online TA        20722\n",
       "Groups           12093\n",
       "Offline TA/TO     8270\n",
       "Direct            1916\n",
       "Corporate          976\n",
       "Complementary       87\n",
       "Aviation            51\n",
       "Name: market_segment, dtype: int64"
      ]
     },
     "execution_count": 13,
     "metadata": {},
     "output_type": "execute_result"
    },
    {
     "data": {
      "image/png": "[encoded data removed]",
      "text/plain": [
       "<Figure size 720x432 with 1 Axes>"
      ]
     },
     "metadata": {},
     "output_type": "display_data"
    }
   ],
   "source": [
    "plt.figure(figsize=(10,6))\n",
    "sns.countplot(x=canceled.market_segment, data=canceled)\n",
    "sns.despine(top=True)\n",
    "plt.xlabel('Segmentos de Mercado')\n",
    "plt.ylabel('Cantidad')\n",
    "plt.title('Cantidad de Reservas Canceladas por Segmentos de Mercado')\n",
    "plt.xticks(rotation=45)\n",
    "canceled.market_segment.value_counts()"
   ]
  },
  {
   "cell_type": "markdown",
   "metadata": {},
   "source": [
    "Observamos que el segmento Online TA es quien lidera el ranking seguido por Groups y Offline TA/TO como los 3 que más operan al momento de contratar las reservas"
   ]
  },
  {
   "cell_type": "markdown",
   "metadata": {},
   "source": [
    "### Clase de Huésped\n",
    "\n",
    "Veamos si los huéspedes que cancelaron la reserva son clientes nuevos o antiguos clientes"
   ]
  },
  {
   "cell_type": "code",
   "execution_count": 14,
   "metadata": {},
   "outputs": [
    {
     "data": {
      "text/plain": [
       "0    43566\n",
       "1      549\n",
       "Name: is_repeated_guest, dtype: int64"
      ]
     },
     "execution_count": 14,
     "metadata": {},
     "output_type": "execute_result"
    },
    {
     "data": {
      "image/png": "[encoded data removed]",
      "text/plain": [
       "<Figure size 720x432 with 1 Axes>"
      ]
     },
     "metadata": {},
     "output_type": "display_data"
    }
   ],
   "source": [
    "plt.figure(figsize=(10,6))\n",
    "sns.countplot(x=canceled.is_repeated_guest, data=canceled)\n",
    "sns.despine(top=True)\n",
    "plt.xlabel('Clase de Huésped')\n",
    "plt.ylabel('Cantidad')\n",
    "plt.title('Cantidad de Reservas por Clase de Huésped')\n",
    "canceled.is_repeated_guest.value_counts() # Si es un huésped nuevo [0] -- Si ya es cliente [1]"
   ]
  },
  {
   "cell_type": "markdown",
   "metadata": {},
   "source": [
    "Observamos que el 99 % de las reservas canceladas corresponde a clientes nuevos, esto lo vamos a tener en cuenta a futuro ya que nos aumentará la dificultad a la hora de armar un patrón de huéspedes propensos a cancelar"
   ]
  },
  {
   "cell_type": "markdown",
   "metadata": {},
   "source": [
    "### Cancelaciones Previas\n",
    "\n",
    "Veamos que proporción de clientes que cancelaron ya lo habían hecho en el pasado"
   ]
  },
  {
   "cell_type": "code",
   "execution_count": 15,
   "metadata": {},
   "outputs": [
    {
     "data": {
      "text/plain": [
       "0     38199\n",
       "1      5689\n",
       "24       48\n",
       "2        37\n",
       "26       26\n",
       "Name: previous_cancellations, dtype: int64"
      ]
     },
     "execution_count": 15,
     "metadata": {},
     "output_type": "execute_result"
    },
    {
     "data": {
      "image/png": "[encoded data removed]",
      "text/plain": [
       "<Figure size 720x432 with 1 Axes>"
      ]
     },
     "metadata": {},
     "output_type": "display_data"
    }
   ],
   "source": [
    "plt.figure(figsize=(10,6))\n",
    "sns.countplot(x=canceled.previous_cancellations, data=canceled,palette=\"Paired\")\n",
    "sns.despine(top=True)\n",
    "plt.xlabel('Cantidad de Cancelaciones Previas')\n",
    "plt.ylabel('Cantidad')\n",
    "plt.title('Cantidad de Reservas Previas Canceladas por Huésped')\n",
    "canceled.previous_cancellations.value_counts().head(5)"
   ]
  },
  {
   "cell_type": "markdown",
   "metadata": {},
   "source": [
    "Podemos identificar claramente 2 grupos, el primero que nunca han cancelado antes una reserva (86.5%), segundo los que al menos una vez lo han hecho (13%). Por último un 0.5% de clientes que lo han hecho mas de una vez como Tercer grupo. "
   ]
  },
  {
   "cell_type": "markdown",
   "metadata": {},
   "source": [
    "### Clase de Habitaciones\n",
    "\n",
    "Observemos cuál es la tendencia a la hora de elegir la clase de habitación"
   ]
  },
  {
   "cell_type": "code",
   "execution_count": 16,
   "metadata": {},
   "outputs": [
    {
     "data": {
      "text/plain": [
       "Text(0.5, 1.0, 'Cantidad de Reservas Canceladas por Tipo de Habitación')"
      ]
     },
     "execution_count": 16,
     "metadata": {},
     "output_type": "execute_result"
    },
    {
     "data": {
      "image/png": "[encoded data removed]",
      "text/plain": [
       "<Figure size 720x432 with 1 Axes>"
      ]
     },
     "metadata": {},
     "output_type": "display_data"
    }
   ],
   "source": [
    "plt.figure(figsize=(10,6))\n",
    "sns.countplot(x=canceled.assigned_room_type, data=canceled)\n",
    "sns.despine(top=True)\n",
    "plt.xlabel('Clase de Habitación')\n",
    "plt.ylabel('Cantidad')\n",
    "plt.title('Cantidad de Reservas Canceladas por Tipo de Habitación')"
   ]
  },
  {
   "cell_type": "markdown",
   "metadata": {},
   "source": [
    "Vemos una clara preferencia por la Clase \"A\" seguida por la clase \"D\" y \"E\" como las reservas de habitaciones que mas tienden a ser canceladas."
   ]
  },
  {
   "cell_type": "markdown",
   "metadata": {},
   "source": [
    "### Tipo de Depósitos\n",
    "\n",
    "Observemos que porcentaje de los clientes que cancelaron habían hecho la reserva con depósito previo"
   ]
  },
  {
   "cell_type": "code",
   "execution_count": 17,
   "metadata": {},
   "outputs": [
    {
     "data": {
      "text/plain": [
       "No Deposit    29599\n",
       "Non Refund    14480\n",
       "Refundable       36\n",
       "Name: deposit_type, dtype: int64"
      ]
     },
     "execution_count": 17,
     "metadata": {},
     "output_type": "execute_result"
    },
    {
     "data": {
      "image/png": "[encoded data removed]",
      "text/plain": [
       "<Figure size 720x432 with 1 Axes>"
      ]
     },
     "metadata": {},
     "output_type": "display_data"
    }
   ],
   "source": [
    "plt.figure(figsize=(10,6))\n",
    "sns.countplot(x=canceled.deposit_type, data = canceled)\n",
    "sns.despine(top=True)\n",
    "plt.xlabel('Tipo de Depósito')\n",
    "plt.ylabel('Cantidad')\n",
    "plt.title('Cantidad de Reservas Canceladas por Tipo de Depósito')\n",
    "canceled.deposit_type.value_counts()"
   ]
  },
  {
   "cell_type": "markdown",
   "metadata": {},
   "source": [
    "Observamos que alrededor del 66 % de las reservas canceladas no contaron con un depósito previo y el otro 34 % fue con un depósito NO reembolsable, solo 36 reservas fueron reembolsadas"
   ]
  },
  {
   "cell_type": "markdown",
   "metadata": {},
   "source": [
    "### Tipo de Clientes\n",
    "\n",
    "Observemos como se distribuyeron las cancelaciones según los tipo de clientes"
   ]
  },
  {
   "cell_type": "code",
   "execution_count": 18,
   "metadata": {},
   "outputs": [
    {
     "data": {
      "text/plain": [
       "Transient          36428\n",
       "Transient-Party     6367\n",
       "Contract            1262\n",
       "Group                 58\n",
       "Name: customer_type, dtype: int64"
      ]
     },
     "execution_count": 18,
     "metadata": {},
     "output_type": "execute_result"
    },
    {
     "data": {
      "image/png": "[encoded data removed]",
      "text/plain": [
       "<Figure size 720x432 with 1 Axes>"
      ]
     },
     "metadata": {},
     "output_type": "display_data"
    }
   ],
   "source": [
    "plt.figure(figsize=(10,6))\n",
    "sns.countplot(x=canceled.customer_type, data=canceled)\n",
    "sns.despine(top=True)\n",
    "plt.xlabel('Clase de Cliente')\n",
    "plt.ylabel('Cantidad')\n",
    "plt.title('Cantidad de Reservas Canceladas por Tipo de Cliente')\n",
    "canceled.customer_type.value_counts()"
   ]
  },
  {
   "cell_type": "markdown",
   "metadata": {},
   "source": [
    "Más del 80 % de las cancelaciones pertenecen al tipo de cliente Transient, seguido por Party-Transient con el 14 %, contratados representa el resto del total menos 58 casos pertenecientes a Grupos"
   ]
  },
  {
   "cell_type": "markdown",
   "metadata": {},
   "source": [
    "### ADR (Average Daily Ratio)\n",
    "\n",
    "Vamos a ver los números sobre esta métrica"
   ]
  },
  {
   "cell_type": "code",
   "execution_count": 19,
   "metadata": {},
   "outputs": [
    {
     "data": {
      "text/plain": [
       "count    44114.000000\n",
       "mean       105.008362\n",
       "std         46.036520\n",
       "min          0.000000\n",
       "25%         73.000000\n",
       "50%         96.300000\n",
       "75%        127.800000\n",
       "max        450.000000\n",
       "Name: adr, dtype: float64"
      ]
     },
     "execution_count": 19,
     "metadata": {},
     "output_type": "execute_result"
    },
    {
     "data": {
      "image/png": "[encoded data removed]",
      "text/plain": [
       "<Figure size 720x432 with 1 Axes>"
      ]
     },
     "metadata": {},
     "output_type": "display_data"
    }
   ],
   "source": [
    "# Filtramos la variable ADR porque en el primer intento encontramos un Outlier que nos distorsionaba  \n",
    "# el gráfico y no nos aportaba ningún beneficio, lo consideramos un error en la carga del dato.\n",
    "canceled = canceled[canceled['adr'] <= 520]\n",
    "plt.figure(figsize=(10,6))\n",
    "sns.boxplot(x=canceled.adr, data=canceled)\n",
    "sns.despine(top=True)\n",
    "plt.xlabel('Adr')\n",
    "plt.title('Adr de Reservas Canceladas')\n",
    "canceled.adr.describe()"
   ]
  },
  {
   "cell_type": "markdown",
   "metadata": {},
   "source": [
    "El método \"Describe\" nos ayuda a comprender el gráfico de Cajas con mayor exactitud y nos provee información bastante útil sobre el promedio diario de facturación por reserva. El \"Adr\" promedio es de Usd 105 con un RIQ entre Usd 73 y Usd 127.80 con un precio máximo de Usd 450 y mínimo de Usd 0  "
   ]
  },
  {
   "cell_type": "markdown",
   "metadata": {},
   "source": [
    "### Fecha de Arribo \n",
    "\n",
    "Descubramos mes a mes cuál fue el de mayor frecuencia de cancelaciones"
   ]
  },
  {
   "cell_type": "code",
   "execution_count": 20,
   "metadata": {},
   "outputs": [
    {
     "data": {
      "text/plain": [
       "2016-11-07    235\n",
       "2017-05-19    225\n",
       "2015-10-16    222\n",
       "2017-06-08    217\n",
       "2016-02-17    212\n",
       "Name: Date_arrive, dtype: int64"
      ]
     },
     "execution_count": 20,
     "metadata": {},
     "output_type": "execute_result"
    },
    {
     "data": {
      "image/png": "[encoded data removed]",
      "text/plain": [
       "<Figure size 720x432 with 1 Axes>"
      ]
     },
     "metadata": {},
     "output_type": "display_data"
    }
   ],
   "source": [
    "arribo_por_meses =canceled.groupby(canceled['Date_arrive'].dt.to_period('M')).size()\n",
    "arribo_por_meses.index\n",
    "arribo_por_meses.values\n",
    "plt.figure(figsize=(10,6))\n",
    "sns.barplot(x=arribo_por_meses.index, y=arribo_por_meses.values,palette=\"Paired\")\n",
    "sns.despine(top=True)\n",
    "plt.title('Cancelaciones Mes a Mes por Año')\n",
    "plt.xlabel('Fechas')\n",
    "plt.ylabel('Cantidad')\n",
    "plt.xticks(rotation=90)\n",
    "canceled.Date_arrive.value_counts().head(5)"
   ]
  },
  {
   "cell_type": "markdown",
   "metadata": {},
   "source": [
    "Mayo del 2017, Octubre del 2016 y Septiembre del 2015 fueron los meses de mayor frecuencia de cancelaciones, vemos una alta estacionalidad donde van en aumento las cancelaciones en los meses de temporada alta Europea, desde Abril a Septiembre aproximadamente, donde se da el mayor volúmen de reservas también"
   ]
  },
  {
   "cell_type": "markdown",
   "metadata": {},
   "source": [
    "### Cantidad de Días\n",
    "\n",
    "Observemos como se distribuyeron las cancelaciones según la cantidad de días reservados"
   ]
  },
  {
   "cell_type": "code",
   "execution_count": 21,
   "metadata": {},
   "outputs": [
    {
     "data": {
      "text/plain": [
       "2.0    12153\n",
       "3.0    11331\n",
       "4.0     6357\n",
       "1.0     5257\n",
       "7.0     2955\n",
       "5.0     2654\n",
       "6.0     1530\n",
       "Name: Days_Sum, dtype: int64"
      ]
     },
     "execution_count": 21,
     "metadata": {},
     "output_type": "execute_result"
    },
    {
     "data": {
      "image/png": "[encoded data removed]",
      "text/plain": [
       "<Figure size 720x432 with 1 Axes>"
      ]
     },
     "metadata": {},
     "output_type": "display_data"
    }
   ],
   "source": [
    "plt.figure(figsize=(10,6))\n",
    "sns.countplot(x=canceled.Days_Sum, data=canceled,palette=\"Paired\")\n",
    "sns.despine(top=True)\n",
    "plt.xlabel('Cantidad de Días')\n",
    "plt.ylabel('Cantidad de Reservas')\n",
    "plt.title('Cantidad de Reservas Canceladas según Cantidad de Días')\n",
    "plt.xticks(rotation=45)\n",
    "canceled.Days_Sum.value_counts().head(7)"
   ]
  },
  {
   "cell_type": "markdown",
   "metadata": {},
   "source": [
    "Como observamos claramente en el gráfico hasta 7 días en total, osea una semana, son las mayores frecuencias de cancelaciones destacandose 2 y 3 dias con mas cantidad debido al alto consumo de reservas por fines de semana sumado a algún feriado el día anterior o posterior"
   ]
  },
  {
   "cell_type": "markdown",
   "metadata": {},
   "source": [
    "### Cantidad de Personas\n",
    "\n",
    "Observemos que cantidad de personas,como grupo, fueron mas frecuentes en realizar las cancelaciones"
   ]
  },
  {
   "cell_type": "code",
   "execution_count": 22,
   "metadata": {},
   "outputs": [
    {
     "data": {
      "text/plain": [
       "Text(0.5, 1.0, 'Cantidad de Reservas Canceladas según Cantidad de Huéspedes')"
      ]
     },
     "execution_count": 22,
     "metadata": {},
     "output_type": "execute_result"
    },
    {
     "data": {
      "image/png": "[encoded data removed]",
      "text/plain": [
       "<Figure size 720x432 with 1 Axes>"
      ]
     },
     "metadata": {},
     "output_type": "display_data"
    }
   ],
   "source": [
    "plt.figure(figsize=(10,6))\n",
    "sns.countplot(x=canceled.People_Sum, data=canceled,palette=\"Paired\")\n",
    "sns.despine(top=True)\n",
    "plt.xlabel('Cantidad de Personas')\n",
    "plt.ylabel('Cantidad de Reservas')\n",
    "plt.title('Cantidad de Reservas Canceladas según Cantidad de Huéspedes')"
   ]
  },
  {
   "cell_type": "markdown",
   "metadata": {},
   "source": [
    "Creamos una nueva columna donde sumamos la cantidad de personas que esperaba el hotel recibir en cada reserva y que luego fue cancelada, esto nos permite enfocarnos en que rango de cantidad de personas se da con mas frecuencia la cancelación resultando claramente 2 personas como la cantidad mas frecuente de huéspedes"
   ]
  },
  {
   "cell_type": "markdown",
   "metadata": {},
   "source": [
    "### Días de Diferencia\n",
    "\n",
    "Vamos a describir con cuantos días de anticipación suelen cancelar los clientes"
   ]
  },
  {
   "cell_type": "code",
   "execution_count": 23,
   "metadata": {},
   "outputs": [
    {
     "data": {
      "text/plain": [
       "0 days     2036\n",
       "3 days      717\n",
       "6 days      635\n",
       "1 days      622\n",
       "5 days      603\n",
       "7 days      599\n",
       "11 days     592\n",
       "4 days      579\n",
       "16 days     531\n",
       "10 days     507\n",
       "15 days     507\n",
       "8 days      496\n",
       "18 days     489\n",
       "12 days     484\n",
       "2 days      483\n",
       "Name: Day_dif, dtype: int64"
      ]
     },
     "execution_count": 23,
     "metadata": {},
     "output_type": "execute_result"
    }
   ],
   "source": [
    "canceled.Day_dif.value_counts().head(15)"
   ]
  },
  {
   "cell_type": "code",
   "execution_count": 24,
   "metadata": {},
   "outputs": [
    {
     "data": {
      "text/plain": [
       "Text(0.5, 1.0, 'Top 15 de Días de Antelación para Cancelar un Reserva')"
      ]
     },
     "execution_count": 24,
     "metadata": {},
     "output_type": "execute_result"
    },
    {
     "data": {
      "image/png": "[encoded data removed]",
      "text/plain": [
       "<Figure size 720x432 with 1 Axes>"
      ]
     },
     "metadata": {},
     "output_type": "display_data"
    }
   ],
   "source": [
    "Top_15_dias_dif = ['0','3','6','1','5','7','11','4','16','10','15','8','18','12','2']\n",
    "Top_15_dias_dif_values = [2036,717,635,622,603,599,592,579,531,507,507,496,489,484,483]\n",
    "\n",
    "plt.figure(figsize=(10,6))\n",
    "sns.barplot(x=Top_15_dias_dif, y=Top_15_dias_dif_values,palette=\"Paired\")\n",
    "sns.despine(top=True)\n",
    "plt.xlabel('Días')\n",
    "plt.ylabel('Cantidad')\n",
    "plt.title('Top 15 de Días de Antelación para Cancelar un Reserva')"
   ]
  },
  {
   "cell_type": "markdown",
   "metadata": {},
   "source": [
    "El método value_counts nos brinda más información detalla aún, por ejemplo podemos filtrar el Top 15 de Cantidad de Días con mayor Cantidad de cancelaciones como lo muesta el gráfico de barras."
   ]
  },
  {
   "cell_type": "code",
   "execution_count": 25,
   "metadata": {},
   "outputs": [
    {
     "data": {
      "text/plain": [
       "count                         44114\n",
       "mean     86 days 00:45:00.856870835\n",
       "std      90 days 17:30:36.984139080\n",
       "min                 0 days 00:00:00\n",
       "25%                17 days 00:00:00\n",
       "50%                54 days 00:00:00\n",
       "75%               128 days 00:00:00\n",
       "max               526 days 00:00:00\n",
       "Name: Day_dif, dtype: object"
      ]
     },
     "execution_count": 25,
     "metadata": {},
     "output_type": "execute_result"
    }
   ],
   "source": [
    "canceled.Day_dif.describe()"
   ]
  },
  {
   "cell_type": "markdown",
   "metadata": {},
   "source": [
    "El método Describe otra vez nos ayuda a comprender, esta vez a la variable \"Day_dif\" que es el resultado de la resta entre la fecha de llegada y la fecha en la cual se hizo la cancelación, de esta forma podemos saber cúal es por ejemplo el promedio de días de anticipación con el cual los clientes hacen la cancelación, en este caso es de 86 días promedio. "
   ]
  },
  {
   "cell_type": "markdown",
   "metadata": {},
   "source": [
    "### Perfil de reserva susceptible de cancelación: \n",
    "\n",
    "***Reservas de 2 personas, con residencia en el mismo pais, de 2 a 3 noches, en habitaciones clase \"A\" en hoteles tipo City y no suelen hacer depositos previos. Todo esto ocurre con más frecuencia en temporada alta de reservas que va desde Abril hasta Septiembre es por eso que es importante hacer dicha previsión.***\n",
    "\n",
    "***Por último sabemos que el promedio de cantidad de días que transcurren desde la futura fecha de arribo elegida por el huésped hasta la fecha de cancelación son de 86 días, lo que nos otorga un rango estimado desde el cuál debemos estar atentos a una posible cancelación.***"
   ]
  },
  {
   "cell_type": "markdown",
   "metadata": {},
   "source": [
    "Aqui termina el **EDA** con el Perfil de reserva susceptible de cancelación, como análisis descriptivo basado en los gráficos expuestos en esta parte."
   ]
  },
  {
   "cell_type": "code",
   "execution_count": 26,
   "metadata": {},
   "outputs": [],
   "source": [
    "# Aqui transformamos las variables categóricas en numéricas para poder correr el algoritmo\n",
    "\n",
    "Hotels = {'City Hotel': 0, 'Resort Hotel': 1}\n",
    "Hotel_1['hotel'] = Hotel_1['hotel'].map(Hotels)\n",
    "\n",
    "Meals = {'BB': 0,'HB': 1,'SC': 2,'Undefined': 3,'FB': 4,}\n",
    "Hotel_1['meal'] = Hotel_1['meal'].map(Meals)\n",
    "\n",
    "Markets = {'Online TA': 0,'Offline TA/TO': 1,'Groups': 2,'Direct': 3,'Corporate': 4,'Complementary': 5,'Aviation': 6}\n",
    "Hotel_1['market_segment'] = Hotel_1['market_segment'].map(Markets)\n",
    "\n",
    "Rooms = {'A': 0,'B': 1,'C': 2,'D': 3,'E': 4,'F': 5,'G': 6,'H': 7,'I': 8,'J': 9 ,'K': 10,'L': 11,}\n",
    "Hotel_1['reserved_room_type'] = Hotel_1['reserved_room_type'].map(Rooms)\n",
    "\n",
    "Rooms1 = {'A': 0,'B': 1,'C': 2,'D': 3,'E': 4,'F': 5,'G': 6,'H': 7,'I': 8,'J': 9 ,'K': 10,'L': 11,}\n",
    "Hotel_1['assigned_room_type'] = Hotel_1['assigned_room_type'].map(Rooms1)\n",
    "\n",
    "Deposits = {'No Deposit': 0,'Non Refund': 1,'Refundable': 2,}\n",
    "Hotel_1['deposit_type'] = Hotel_1['deposit_type'].map(Deposits)\n",
    "\n",
    "Customers = {'Transient': 0,'Transient-Party': 1,'Contract': 2,'Group': 3,}\n",
    "Hotel_1['customer_type'] = Hotel_1['customer_type'].map(Customers)"
   ]
  },
  {
   "cell_type": "code",
   "execution_count": 27,
   "metadata": {},
   "outputs": [
    {
     "data": {
      "text/html": [
       "<div>\n",
       "<style scoped>\n",
       "    .dataframe tbody tr th:only-of-type {\n",
       "        vertical-align: middle;\n",
       "    }\n",
       "\n",
       "    .dataframe tbody tr th {\n",
       "        vertical-align: top;\n",
       "    }\n",
       "\n",
       "    .dataframe thead th {\n",
       "        text-align: right;\n",
       "    }\n",
       "</style>\n",
       "<table border=\"1\" class=\"dataframe\">\n",
       "  <thead>\n",
       "    <tr style=\"text-align: right;\">\n",
       "      <th></th>\n",
       "      <th>hotel</th>\n",
       "      <th>is_canceled</th>\n",
       "      <th>meal</th>\n",
       "      <th>market_segment</th>\n",
       "      <th>is_repeated_guest</th>\n",
       "      <th>previous_cancellations</th>\n",
       "      <th>reserved_room_type</th>\n",
       "      <th>assigned_room_type</th>\n",
       "      <th>deposit_type</th>\n",
       "      <th>customer_type</th>\n",
       "      <th>adr</th>\n",
       "      <th>People_Sum</th>\n",
       "      <th>Days_Sum</th>\n",
       "    </tr>\n",
       "  </thead>\n",
       "  <tbody>\n",
       "    <tr>\n",
       "      <th>0</th>\n",
       "      <td>1</td>\n",
       "      <td>0</td>\n",
       "      <td>0</td>\n",
       "      <td>3</td>\n",
       "      <td>0</td>\n",
       "      <td>0</td>\n",
       "      <td>0</td>\n",
       "      <td>2</td>\n",
       "      <td>0</td>\n",
       "      <td>0</td>\n",
       "      <td>75.00</td>\n",
       "      <td>1.0</td>\n",
       "      <td>1.0</td>\n",
       "    </tr>\n",
       "    <tr>\n",
       "      <th>1</th>\n",
       "      <td>1</td>\n",
       "      <td>0</td>\n",
       "      <td>0</td>\n",
       "      <td>4</td>\n",
       "      <td>0</td>\n",
       "      <td>0</td>\n",
       "      <td>0</td>\n",
       "      <td>0</td>\n",
       "      <td>0</td>\n",
       "      <td>0</td>\n",
       "      <td>75.00</td>\n",
       "      <td>1.0</td>\n",
       "      <td>1.0</td>\n",
       "    </tr>\n",
       "    <tr>\n",
       "      <th>2</th>\n",
       "      <td>1</td>\n",
       "      <td>0</td>\n",
       "      <td>0</td>\n",
       "      <td>0</td>\n",
       "      <td>0</td>\n",
       "      <td>0</td>\n",
       "      <td>0</td>\n",
       "      <td>0</td>\n",
       "      <td>0</td>\n",
       "      <td>0</td>\n",
       "      <td>98.00</td>\n",
       "      <td>2.0</td>\n",
       "      <td>2.0</td>\n",
       "    </tr>\n",
       "    <tr>\n",
       "      <th>3</th>\n",
       "      <td>1</td>\n",
       "      <td>0</td>\n",
       "      <td>0</td>\n",
       "      <td>0</td>\n",
       "      <td>0</td>\n",
       "      <td>0</td>\n",
       "      <td>0</td>\n",
       "      <td>0</td>\n",
       "      <td>0</td>\n",
       "      <td>0</td>\n",
       "      <td>98.00</td>\n",
       "      <td>2.0</td>\n",
       "      <td>2.0</td>\n",
       "    </tr>\n",
       "    <tr>\n",
       "      <th>4</th>\n",
       "      <td>1</td>\n",
       "      <td>0</td>\n",
       "      <td>0</td>\n",
       "      <td>3</td>\n",
       "      <td>0</td>\n",
       "      <td>0</td>\n",
       "      <td>2</td>\n",
       "      <td>2</td>\n",
       "      <td>0</td>\n",
       "      <td>0</td>\n",
       "      <td>107.00</td>\n",
       "      <td>2.0</td>\n",
       "      <td>2.0</td>\n",
       "    </tr>\n",
       "    <tr>\n",
       "      <th>...</th>\n",
       "      <td>...</td>\n",
       "      <td>...</td>\n",
       "      <td>...</td>\n",
       "      <td>...</td>\n",
       "      <td>...</td>\n",
       "      <td>...</td>\n",
       "      <td>...</td>\n",
       "      <td>...</td>\n",
       "      <td>...</td>\n",
       "      <td>...</td>\n",
       "      <td>...</td>\n",
       "      <td>...</td>\n",
       "      <td>...</td>\n",
       "    </tr>\n",
       "    <tr>\n",
       "      <th>118083</th>\n",
       "      <td>0</td>\n",
       "      <td>0</td>\n",
       "      <td>0</td>\n",
       "      <td>1</td>\n",
       "      <td>0</td>\n",
       "      <td>0</td>\n",
       "      <td>0</td>\n",
       "      <td>0</td>\n",
       "      <td>0</td>\n",
       "      <td>0</td>\n",
       "      <td>96.14</td>\n",
       "      <td>2.0</td>\n",
       "      <td>7.0</td>\n",
       "    </tr>\n",
       "    <tr>\n",
       "      <th>118084</th>\n",
       "      <td>0</td>\n",
       "      <td>0</td>\n",
       "      <td>0</td>\n",
       "      <td>0</td>\n",
       "      <td>0</td>\n",
       "      <td>0</td>\n",
       "      <td>4</td>\n",
       "      <td>4</td>\n",
       "      <td>0</td>\n",
       "      <td>0</td>\n",
       "      <td>225.43</td>\n",
       "      <td>3.0</td>\n",
       "      <td>7.0</td>\n",
       "    </tr>\n",
       "    <tr>\n",
       "      <th>118085</th>\n",
       "      <td>0</td>\n",
       "      <td>0</td>\n",
       "      <td>0</td>\n",
       "      <td>0</td>\n",
       "      <td>0</td>\n",
       "      <td>0</td>\n",
       "      <td>3</td>\n",
       "      <td>3</td>\n",
       "      <td>0</td>\n",
       "      <td>0</td>\n",
       "      <td>157.71</td>\n",
       "      <td>2.0</td>\n",
       "      <td>7.0</td>\n",
       "    </tr>\n",
       "    <tr>\n",
       "      <th>118086</th>\n",
       "      <td>0</td>\n",
       "      <td>0</td>\n",
       "      <td>0</td>\n",
       "      <td>0</td>\n",
       "      <td>0</td>\n",
       "      <td>0</td>\n",
       "      <td>0</td>\n",
       "      <td>0</td>\n",
       "      <td>0</td>\n",
       "      <td>0</td>\n",
       "      <td>104.40</td>\n",
       "      <td>2.0</td>\n",
       "      <td>7.0</td>\n",
       "    </tr>\n",
       "    <tr>\n",
       "      <th>118087</th>\n",
       "      <td>0</td>\n",
       "      <td>0</td>\n",
       "      <td>1</td>\n",
       "      <td>0</td>\n",
       "      <td>0</td>\n",
       "      <td>0</td>\n",
       "      <td>0</td>\n",
       "      <td>0</td>\n",
       "      <td>0</td>\n",
       "      <td>0</td>\n",
       "      <td>151.20</td>\n",
       "      <td>2.0</td>\n",
       "      <td>9.0</td>\n",
       "    </tr>\n",
       "  </tbody>\n",
       "</table>\n",
       "<p>118088 rows × 13 columns</p>\n",
       "</div>"
      ],
      "text/plain": [
       "        hotel  is_canceled  meal  market_segment  is_repeated_guest  \\\n",
       "0           1            0     0               3                  0   \n",
       "1           1            0     0               4                  0   \n",
       "2           1            0     0               0                  0   \n",
       "3           1            0     0               0                  0   \n",
       "4           1            0     0               3                  0   \n",
       "...       ...          ...   ...             ...                ...   \n",
       "118083      0            0     0               1                  0   \n",
       "118084      0            0     0               0                  0   \n",
       "118085      0            0     0               0                  0   \n",
       "118086      0            0     0               0                  0   \n",
       "118087      0            0     1               0                  0   \n",
       "\n",
       "        previous_cancellations  reserved_room_type  assigned_room_type  \\\n",
       "0                            0                   0                   2   \n",
       "1                            0                   0                   0   \n",
       "2                            0                   0                   0   \n",
       "3                            0                   0                   0   \n",
       "4                            0                   2                   2   \n",
       "...                        ...                 ...                 ...   \n",
       "118083                       0                   0                   0   \n",
       "118084                       0                   4                   4   \n",
       "118085                       0                   3                   3   \n",
       "118086                       0                   0                   0   \n",
       "118087                       0                   0                   0   \n",
       "\n",
       "        deposit_type  customer_type     adr  People_Sum  Days_Sum  \n",
       "0                  0              0   75.00         1.0       1.0  \n",
       "1                  0              0   75.00         1.0       1.0  \n",
       "2                  0              0   98.00         2.0       2.0  \n",
       "3                  0              0   98.00         2.0       2.0  \n",
       "4                  0              0  107.00         2.0       2.0  \n",
       "...              ...            ...     ...         ...       ...  \n",
       "118083             0              0   96.14         2.0       7.0  \n",
       "118084             0              0  225.43         3.0       7.0  \n",
       "118085             0              0  157.71         2.0       7.0  \n",
       "118086             0              0  104.40         2.0       7.0  \n",
       "118087             0              0  151.20         2.0       9.0  \n",
       "\n",
       "[118088 rows x 13 columns]"
      ]
     },
     "execution_count": 27,
     "metadata": {},
     "output_type": "execute_result"
    }
   ],
   "source": [
    "# Aqui eliminamos las columnas tipo fecha y \"country\" para correr el algoritmo\n",
    "\n",
    "Hotel_2 = Hotel_1.drop(Hotel_1.iloc[ : , [3,12,15,16]], axis = 1)\n",
    "Hotel_2"
   ]
  },
  {
   "cell_type": "code",
   "execution_count": 28,
   "metadata": {},
   "outputs": [],
   "source": [
    "X = Hotel_2.drop(\"is_canceled\", axis=1)       # feature matrix\n",
    "y = Hotel_2['is_canceled']                    # target feature"
   ]
  },
  {
   "cell_type": "code",
   "execution_count": 29,
   "metadata": {},
   "outputs": [
    {
     "data": {
      "text/plain": [
       "0    0\n",
       "1    0\n",
       "2    0\n",
       "3    0\n",
       "4    0\n",
       "Name: is_canceled, dtype: int64"
      ]
     },
     "execution_count": 29,
     "metadata": {},
     "output_type": "execute_result"
    }
   ],
   "source": [
    "# El \"Cero\" indica que No cancelaron. el \"1\" indica que SI lo hicieron\n",
    "\n",
    "y.head()"
   ]
  },
  {
   "cell_type": "code",
   "execution_count": 30,
   "metadata": {},
   "outputs": [],
   "source": [
    "# Importamos la libreria necesaria para correr el algoritmo\n",
    "\n",
    "import statsmodels.api as sm\n",
    "\n",
    "# Importamos las métricas\n",
    "\n",
    "from sklearn import metrics\n",
    "from sklearn.ensemble import RandomForestClassifier\n",
    "from sklearn.model_selection import train_test_split"
   ]
  },
  {
   "cell_type": "markdown",
   "metadata": {},
   "source": [
    "### El método para la reducción de dimensionalidad elegido fue $\\color{red}{\\text{Forward Selection\n",
    "​}}$"
   ]
  },
  {
   "cell_type": "code",
   "execution_count": 31,
   "metadata": {},
   "outputs": [],
   "source": [
    "def forward_selection(Hotel_2, target, significance_level=0.05):\n",
    "    initial_features = Hotel_2.columns.tolist()\n",
    "    best_features = []\n",
    "    while (len(initial_features)>0):\n",
    "        remaining_features = list(set(initial_features)-set(best_features))\n",
    "        new_pval = pd.Series(index=remaining_features)\n",
    "        for new_column in remaining_features:\n",
    "            model = sm.OLS(target, sm.add_constant(Hotel_2[best_features+[new_column]])).fit()\n",
    "            new_pval[new_column] = model.pvalues[new_column]\n",
    "        min_p_value = new_pval.min()\n",
    "        if(min_p_value<significance_level):\n",
    "            best_features.append(new_pval.idxmin())\n",
    "        else:\n",
    "            break\n",
    "    return best_features"
   ]
  },
  {
   "cell_type": "code",
   "execution_count": 32,
   "metadata": {},
   "outputs": [
    {
     "name": "stderr",
     "output_type": "stream",
     "text": [
      "<ipython-input-31-11a3cbc15162>:6: DeprecationWarning: The default dtype for empty Series will be 'object' instead of 'float64' in a future version. Specify a dtype explicitly to silence this warning.\n",
      "  new_pval = pd.Series(index=remaining_features)\n",
      "<ipython-input-31-11a3cbc15162>:6: DeprecationWarning: The default dtype for empty Series will be 'object' instead of 'float64' in a future version. Specify a dtype explicitly to silence this warning.\n",
      "  new_pval = pd.Series(index=remaining_features)\n",
      "<ipython-input-31-11a3cbc15162>:6: DeprecationWarning: The default dtype for empty Series will be 'object' instead of 'float64' in a future version. Specify a dtype explicitly to silence this warning.\n",
      "  new_pval = pd.Series(index=remaining_features)\n",
      "<ipython-input-31-11a3cbc15162>:6: DeprecationWarning: The default dtype for empty Series will be 'object' instead of 'float64' in a future version. Specify a dtype explicitly to silence this warning.\n",
      "  new_pval = pd.Series(index=remaining_features)\n",
      "<ipython-input-31-11a3cbc15162>:6: DeprecationWarning: The default dtype for empty Series will be 'object' instead of 'float64' in a future version. Specify a dtype explicitly to silence this warning.\n",
      "  new_pval = pd.Series(index=remaining_features)\n",
      "<ipython-input-31-11a3cbc15162>:6: DeprecationWarning: The default dtype for empty Series will be 'object' instead of 'float64' in a future version. Specify a dtype explicitly to silence this warning.\n",
      "  new_pval = pd.Series(index=remaining_features)\n",
      "<ipython-input-31-11a3cbc15162>:6: DeprecationWarning: The default dtype for empty Series will be 'object' instead of 'float64' in a future version. Specify a dtype explicitly to silence this warning.\n",
      "  new_pval = pd.Series(index=remaining_features)\n",
      "<ipython-input-31-11a3cbc15162>:6: DeprecationWarning: The default dtype for empty Series will be 'object' instead of 'float64' in a future version. Specify a dtype explicitly to silence this warning.\n",
      "  new_pval = pd.Series(index=remaining_features)\n",
      "<ipython-input-31-11a3cbc15162>:6: DeprecationWarning: The default dtype for empty Series will be 'object' instead of 'float64' in a future version. Specify a dtype explicitly to silence this warning.\n",
      "  new_pval = pd.Series(index=remaining_features)\n",
      "<ipython-input-31-11a3cbc15162>:6: DeprecationWarning: The default dtype for empty Series will be 'object' instead of 'float64' in a future version. Specify a dtype explicitly to silence this warning.\n",
      "  new_pval = pd.Series(index=remaining_features)\n",
      "<ipython-input-31-11a3cbc15162>:6: DeprecationWarning: The default dtype for empty Series will be 'object' instead of 'float64' in a future version. Specify a dtype explicitly to silence this warning.\n",
      "  new_pval = pd.Series(index=remaining_features)\n",
      "<ipython-input-31-11a3cbc15162>:6: DeprecationWarning: The default dtype for empty Series will be 'object' instead of 'float64' in a future version. Specify a dtype explicitly to silence this warning.\n",
      "  new_pval = pd.Series(index=remaining_features)\n"
     ]
    },
    {
     "data": {
      "text/plain": [
       "['previous_cancellations',\n",
       " 'hotel',\n",
       " 'customer_type',\n",
       " 'assigned_room_type',\n",
       " 'reserved_room_type',\n",
       " 'deposit_type',\n",
       " 'market_segment',\n",
       " 'People_Sum',\n",
       " 'Days_Sum',\n",
       " 'adr',\n",
       " 'is_repeated_guest']"
      ]
     },
     "execution_count": 32,
     "metadata": {},
     "output_type": "execute_result"
    }
   ],
   "source": [
    "forward_selection(X,y)"
   ]
  },
  {
   "cell_type": "markdown",
   "metadata": {},
   "source": [
    "### Elegimos el Algoritmo Supervisado de Clasificación $\\color{red}{\\text{Random Forest Classifier​}}$"
   ]
  },
  {
   "cell_type": "code",
   "execution_count": 33,
   "metadata": {},
   "outputs": [],
   "source": [
    "# Definimos matriz de diseño \"X\" y vector respuesta \"y\"\n",
    "\n",
    "X = X\n",
    "y = abs(pd.Series(Hotel_2['is_canceled']))\n",
    "\n",
    "# Separamos en entrenamiento/test en razon 80/20 %\n",
    "\n",
    "X_train, X_test, y_train, y_test = train_test_split(X,y,test_size=0.2, random_state=1)\n",
    "\n",
    "# Creamos un modelo Random Forest con parametros por defect\n",
    "\n",
    "modelo = RandomForestClassifier(random_state=1)\n",
    "modelo.fit(X_train, y_train)\n",
    "\n",
    "# Obtenemos las predicciones del modelo con X_test\n",
    "\n",
    "preds = modelo.predict(X_test) "
   ]
  },
  {
   "cell_type": "markdown",
   "metadata": {},
   "source": [
    "### Elegimos la $\\color{red}{\\text{Matriz de Confusión​}}$ para graficar y evaluar las métricas"
   ]
  },
  {
   "cell_type": "code",
   "execution_count": 34,
   "metadata": {},
   "outputs": [
    {
     "data": {
      "text/plain": [
       "<sklearn.metrics._plot.confusion_matrix.ConfusionMatrixDisplay at 0x13ddf342c40>"
      ]
     },
     "execution_count": 34,
     "metadata": {},
     "output_type": "execute_result"
    },
    {
     "data": {
      "text/plain": [
       "<Figure size 720x432 with 0 Axes>"
      ]
     },
     "metadata": {},
     "output_type": "display_data"
    },
    {
     "data": {
      "image/png": "[encoded data removed]",
      "text/plain": [
       "<Figure size 432x288 with 2 Axes>"
      ]
     },
     "metadata": {},
     "output_type": "display_data"
    }
   ],
   "source": [
    "# Graficamos las predicciones hechas anteriormente\n",
    "\n",
    "plt.figure(figsize=(10,6))\n",
    "metrics.plot_confusion_matrix(modelo, X_test, y_test, display_labels=['Negative','Positive'])"
   ]
  },
  {
   "cell_type": "code",
   "execution_count": 35,
   "metadata": {},
   "outputs": [
    {
     "data": {
      "text/plain": [
       "array([12648,  2063,  2763,  6144], dtype=int64)"
      ]
     },
     "execution_count": 35,
     "metadata": {},
     "output_type": "execute_result"
    }
   ],
   "source": [
    "confusion = metrics.confusion_matrix(y_test, preds)\n",
    "confusion.ravel()"
   ]
  },
  {
   "cell_type": "code",
   "execution_count": 36,
   "metadata": {},
   "outputs": [
    {
     "data": {
      "text/plain": [
       "0.7956643238208146"
      ]
     },
     "execution_count": 36,
     "metadata": {},
     "output_type": "execute_result"
    }
   ],
   "source": [
    "# Exactitud\n",
    "\n",
    "accuracy = metrics.accuracy_score(y_test, preds)\n",
    "accuracy "
   ]
  },
  {
   "cell_type": "code",
   "execution_count": 37,
   "metadata": {},
   "outputs": [
    {
     "data": {
      "text/plain": [
       "(0.7486292189594249, 0.8207124781000584)"
      ]
     },
     "execution_count": 37,
     "metadata": {},
     "output_type": "execute_result"
    }
   ],
   "source": [
    "# Precision se evalua para cada categoria\n",
    "\n",
    "precision_positiva = metrics.precision_score(y_test, preds, pos_label=1)\n",
    "precision_negativa = metrics.precision_score(y_test, preds, pos_label=0)\n",
    "precision_positiva, precision_negativa"
   ]
  },
  {
   "cell_type": "code",
   "execution_count": 38,
   "metadata": {},
   "outputs": [
    {
     "data": {
      "text/plain": [
       "(0.6897945436173796, 0.8597648018489565)"
      ]
     },
     "execution_count": 38,
     "metadata": {},
     "output_type": "execute_result"
    }
   ],
   "source": [
    "# Recall se evalua para cada categoria\n",
    "\n",
    "recall_sensibilidad = metrics.recall_score(y_test, preds, pos_label=1)\n",
    "recall_especificidad= metrics.recall_score(y_test, preds, pos_label=0)\n",
    "recall_sensibilidad, recall_especificidad"
   ]
  },
  {
   "cell_type": "code",
   "execution_count": 39,
   "metadata": {},
   "outputs": [
    {
     "data": {
      "text/plain": [
       "(0.7180086478906158, 0.839784874842308)"
      ]
     },
     "execution_count": 39,
     "metadata": {},
     "output_type": "execute_result"
    }
   ],
   "source": [
    "# F1 Score se evalua para cada categoria \n",
    "\n",
    "f1_positivo = metrics.f1_score(y_test, preds, pos_label=1)\n",
    "f1_negativo = metrics.f1_score(y_test, preds, pos_label=0)\n",
    "f1_positivo, f1_negativo"
   ]
  },
  {
   "cell_type": "code",
   "execution_count": 40,
   "metadata": {},
   "outputs": [
    {
     "name": "stdout",
     "output_type": "stream",
     "text": [
      "              precision    recall  f1-score   support\n",
      "\n",
      "           0       0.82      0.86      0.84     14711\n",
      "           1       0.75      0.69      0.72      8907\n",
      "\n",
      "    accuracy                           0.80     23618\n",
      "   macro avg       0.78      0.77      0.78     23618\n",
      "weighted avg       0.79      0.80      0.79     23618\n",
      "\n"
     ]
    }
   ],
   "source": [
    "# El \"Cero\" significa que NO cancelaron y el \"1\" significa que Si cancelaron\n",
    "\n",
    "# Todas las metricas en uno\n",
    "\n",
    "print(metrics.classification_report(y_test, preds))"
   ]
  },
  {
   "cell_type": "markdown",
   "metadata": {},
   "source": [
    "### $\\color{Red}{\\text{Conclusiones​}}$\n",
    "\n",
    "#### 1° La exactitud del 80 % es un buen nivel inicial, nos dice que el porcentaje de elementos clasificados correctamente es alto, el desafío siguiente será mejorarla.En nuestro caso en particular nos indica que sobre 23618 reservas, 18792 fueron correctamente clasificadas ya sea que efectivamente fueron canceladas (6144 VP) como las que no lo fueron (12648 VN).\n",
    "\n",
    "#### 2° La precisión del 75 % para nosotros se encuentra en el límite de lo aceptable como métrica que calcula la cantidad de casos positivos, entendiéndose como positivos las reservas susceptibles de cancelación. 6144 (VP) / (6144 (VP) + 2063 (FP)) = 0.7486. En la siguiente etapa vamos a introducir cambios para elevar ese porcentaje ya que el principal objetivo del modelo es predecir que porcentaje de reservas serán pasibles de cancelaciones y mientras mas alto sea la proporción mejores resultados obtendremos.\n",
    "\n",
    "#### 3° La sensibilidad o recall del 69 % es baja, no es una buena performance del modelo.                         Esta es una métrica importante ya que conocer que porcentaje de casos positivos fueron correctamente identificados dice mucho sobre nuestro modelo, debemos ajustarlo para elevar este número. En nuestro caso en particular nos indica que sobre 8907 reservas canceladas, 6144 fueron correctamente clasificadas y 2763 no lo fueron: 6144 (VP)/(6144 (VP) + 2763 (FN))=0.6897\n",
    "\n",
    "#### 4° La especificidad es del 86 %, en contraposición con el Recall es un buen dato este, significa que el modelo predice muy bien los casos negativos, osea que de 14711 reservas que no iban a ser canceladas, 12648 (VN) fueron correctamente identificadas y 2063 no lo fueron (FP). \n",
    "\n",
    "#### 5° El F1 Score resulto ser del 0.72 lo cual nos deja un margen hacia arriba para mejorar el modelo, esta métrica se compone con la siguiente fórmula: 2 * (Recall * Precision) / (Recall + Precision), reemplazamos los valores por 2 * (0.6897 * 0.7486) / (0.6897 + 0.7486)=0.7180\n",
    "\n",
    "#### Como conclusión general el modelo presenta muchos errores tanto en las predicciones sobre reservas que iban a ser canceladas y no lo fueron (FP)  como en las reservas que predijo que no iban a ser canceladas y si lo hicieron (FN). Vamos encontrar la forma de bajar esta cantidad de errores ya que una vez terminado el modelo debemos pensar como manejar esas reservas pasibles de cambios y si son muchas el costo económico y de tiempo será un dato importante en la ecuación costo/beneficio.\n",
    "#### Los próximos pasos a seguir será setear el modelo con nuevos parámetros y volver a medir los resultados, también evaluaremos usar otros algoritmos de clasificación que puedan darnos mejores desempeños."
   ]
  }
 ],
 "metadata": {
  "kernelspec": {
   "display_name": "Python 3",
   "language": "python",
   "name": "python3"
  },
  "language_info": {
   "codemirror_mode": {
    "name": "ipython",
    "version": 3
   },
   "file_extension": ".py",
   "mimetype": "text/x-python",
   "name": "python",
   "nbconvert_exporter": "python",
   "pygments_lexer": "ipython3",
   "version": "3.8.5"
  }
 },
 "nbformat": 4,
 "nbformat_minor": 4
}
